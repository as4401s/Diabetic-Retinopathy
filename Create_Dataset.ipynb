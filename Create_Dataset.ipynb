{
 "cells": [
  {
   "cell_type": "code",
   "execution_count": 1,
   "metadata": {},
   "outputs": [],
   "source": [
    "import cv2 as cv\n",
    "import seaborn as sns\n",
    "import os\n",
    "import time\n",
    "import pandas as pd\n",
    "import SimpleITK as sitk\n",
    "from skimage import io"
   ]
  },
  {
   "cell_type": "code",
   "execution_count": 2,
   "metadata": {},
   "outputs": [
    {
     "name": "stdout",
     "output_type": "stream",
     "text": [
      "Directory already exists\n"
     ]
    }
   ],
   "source": [
    "if not os.path.exists('D:/Kaggle datasets/Thesis'):\n",
    "    \n",
    "    try:\n",
    "        \n",
    "        os.mkdir('D:/Kaggle datasets/Thesis/')\n",
    "        os.mkdir('D:/Kaggle datasets/Thesis/Diabetic_Retinopathy/')\n",
    "        os.mkdir('D:/Kaggle datasets/Thesis/Diabetic_Retinopathy/Train')\n",
    "        os.mkdir('D:/Kaggle datasets/Thesis/Diabetic_Retinopathy/Train/Level_0')\n",
    "        os.mkdir('D:/Kaggle datasets/Thesis/Diabetic_Retinopathy/Train/Level_1')\n",
    "        os.mkdir('D:/Kaggle datasets/Thesis/Diabetic_Retinopathy/Train/Level_2')\n",
    "        os.mkdir('D:/Kaggle datasets/Thesis/Diabetic_Retinopathy/Train/Level_3')\n",
    "        os.mkdir('D:/Kaggle datasets/Thesis/Diabetic_Retinopathy/Train/Level_4')\n",
    "        os.mkdir('D:/Kaggle datasets/Thesis/Diabetic_Retinopathy/Test')\n",
    "        os.mkdir('D:/Kaggle datasets/Thesis/Diabetic_Retinopathy/Test/Level_0')\n",
    "        os.mkdir('D:/Kaggle datasets/Thesis/Diabetic_Retinopathy/Test/Level_1')\n",
    "        os.mkdir('D:/Kaggle datasets/Thesis/Diabetic_Retinopathy/Test/Level_2')\n",
    "        os.mkdir('D:/Kaggle datasets/Thesis/Diabetic_Retinopathy/Test/Level_3')\n",
    "        os.mkdir('D:/Kaggle datasets/Thesis/Diabetic_Retinopathy/Test/Level_4')\n",
    "        \n",
    "    except OSError:\n",
    "        \n",
    "        print('Creation of directory failed')\n",
    "        \n",
    "    else:\n",
    "        \n",
    "        print('Successfully created directory')\n",
    "        \n",
    "else:\n",
    "    \n",
    "    print('Directory already exists')"
   ]
  },
  {
   "cell_type": "code",
   "execution_count": 3,
   "metadata": {},
   "outputs": [
    {
     "data": {
      "text/html": [
       "<div>\n",
       "<style scoped>\n",
       "    .dataframe tbody tr th:only-of-type {\n",
       "        vertical-align: middle;\n",
       "    }\n",
       "\n",
       "    .dataframe tbody tr th {\n",
       "        vertical-align: top;\n",
       "    }\n",
       "\n",
       "    .dataframe thead th {\n",
       "        text-align: right;\n",
       "    }\n",
       "</style>\n",
       "<table border=\"1\" class=\"dataframe\">\n",
       "  <thead>\n",
       "    <tr style=\"text-align: right;\">\n",
       "      <th></th>\n",
       "      <th>image</th>\n",
       "      <th>level</th>\n",
       "    </tr>\n",
       "  </thead>\n",
       "  <tbody>\n",
       "    <tr>\n",
       "      <th>0</th>\n",
       "      <td>10_left</td>\n",
       "      <td>0</td>\n",
       "    </tr>\n",
       "    <tr>\n",
       "      <th>1</th>\n",
       "      <td>10_right</td>\n",
       "      <td>0</td>\n",
       "    </tr>\n",
       "    <tr>\n",
       "      <th>2</th>\n",
       "      <td>13_left</td>\n",
       "      <td>0</td>\n",
       "    </tr>\n",
       "    <tr>\n",
       "      <th>3</th>\n",
       "      <td>13_right</td>\n",
       "      <td>0</td>\n",
       "    </tr>\n",
       "    <tr>\n",
       "      <th>4</th>\n",
       "      <td>15_left</td>\n",
       "      <td>1</td>\n",
       "    </tr>\n",
       "  </tbody>\n",
       "</table>\n",
       "</div>"
      ],
      "text/plain": [
       "      image  level\n",
       "0   10_left      0\n",
       "1  10_right      0\n",
       "2   13_left      0\n",
       "3  13_right      0\n",
       "4   15_left      1"
      ]
     },
     "execution_count": 3,
     "metadata": {},
     "output_type": "execute_result"
    }
   ],
   "source": [
    "df_train = pd.read_csv('D:/Kaggle datasets/diabetic-retinopathy-detection/trainLabels.csv')\n",
    "\n",
    "df_train.head()"
   ]
  },
  {
   "cell_type": "code",
   "execution_count": 4,
   "metadata": {},
   "outputs": [
    {
     "data": {
      "text/html": [
       "<div>\n",
       "<style scoped>\n",
       "    .dataframe tbody tr th:only-of-type {\n",
       "        vertical-align: middle;\n",
       "    }\n",
       "\n",
       "    .dataframe tbody tr th {\n",
       "        vertical-align: top;\n",
       "    }\n",
       "\n",
       "    .dataframe thead th {\n",
       "        text-align: right;\n",
       "    }\n",
       "</style>\n",
       "<table border=\"1\" class=\"dataframe\">\n",
       "  <thead>\n",
       "    <tr style=\"text-align: right;\">\n",
       "      <th></th>\n",
       "      <th>image</th>\n",
       "      <th>level</th>\n",
       "      <th>Usage</th>\n",
       "    </tr>\n",
       "  </thead>\n",
       "  <tbody>\n",
       "    <tr>\n",
       "      <th>0</th>\n",
       "      <td>1_left</td>\n",
       "      <td>0</td>\n",
       "      <td>Private</td>\n",
       "    </tr>\n",
       "    <tr>\n",
       "      <th>1</th>\n",
       "      <td>1_right</td>\n",
       "      <td>0</td>\n",
       "      <td>Private</td>\n",
       "    </tr>\n",
       "    <tr>\n",
       "      <th>2</th>\n",
       "      <td>2_left</td>\n",
       "      <td>0</td>\n",
       "      <td>Public</td>\n",
       "    </tr>\n",
       "    <tr>\n",
       "      <th>3</th>\n",
       "      <td>2_right</td>\n",
       "      <td>0</td>\n",
       "      <td>Public</td>\n",
       "    </tr>\n",
       "    <tr>\n",
       "      <th>4</th>\n",
       "      <td>3_left</td>\n",
       "      <td>2</td>\n",
       "      <td>Private</td>\n",
       "    </tr>\n",
       "  </tbody>\n",
       "</table>\n",
       "</div>"
      ],
      "text/plain": [
       "     image  level    Usage\n",
       "0   1_left      0  Private\n",
       "1  1_right      0  Private\n",
       "2   2_left      0   Public\n",
       "3  2_right      0   Public\n",
       "4   3_left      2  Private"
      ]
     },
     "execution_count": 4,
     "metadata": {},
     "output_type": "execute_result"
    }
   ],
   "source": [
    "df_test = pd.read_csv('D:/Kaggle datasets/diabetic-retinopathy-detection/retinopathy_solution.csv')\n",
    "\n",
    "df_test.head()"
   ]
  },
  {
   "cell_type": "code",
   "execution_count": 5,
   "metadata": {},
   "outputs": [
    {
     "name": "stdout",
     "output_type": "stream",
     "text": [
      "Toal number of images in the training set image    35126\n",
      "level    35126\n",
      "dtype: int64\n"
     ]
    },
    {
     "data": {
      "text/plain": [
       "0    25810\n",
       "2     5292\n",
       "1     2443\n",
       "3      873\n",
       "4      708\n",
       "Name: level, dtype: int64"
      ]
     },
     "execution_count": 5,
     "metadata": {},
     "output_type": "execute_result"
    }
   ],
   "source": [
    "#check total number of images\n",
    "\n",
    "df_images = df_train.count()\n",
    "\n",
    "print (f'Toal number of images in the training set {df_images}')\n",
    "\n",
    "# number of images belonging to each level\n",
    "\n",
    "unique_count = df_train['level'].value_counts()\n",
    "\n",
    "unique_count"
   ]
  },
  {
   "cell_type": "code",
   "execution_count": 7,
   "metadata": {},
   "outputs": [
    {
     "data": {
      "text/plain": [
       "<AxesSubplot:xlabel='level', ylabel='count'>"
      ]
     },
     "execution_count": 7,
     "metadata": {},
     "output_type": "execute_result"
    },
    {
     "data": {
      "image/png": "[encoded data removed]",
      "text/plain": [
       "<Figure size 432x288 with 1 Axes>"
      ]
     },
     "metadata": {
      "needs_background": "light"
     },
     "output_type": "display_data"
    }
   ],
   "source": [
    "#check number of images in each class\n",
    "\n",
    "sns.countplot(x = 'level', data = df_train)"
   ]
  },
  {
   "cell_type": "code",
   "execution_count": 8,
   "metadata": {},
   "outputs": [],
   "source": [
    "start_time = time.time()"
   ]
  },
  {
   "cell_type": "code",
   "execution_count": 9,
   "metadata": {},
   "outputs": [],
   "source": [
    "def create_dataset(df,path,image_size,dataset):\n",
    "    \n",
    "    for i, item in df.iterrows():\n",
    "        \n",
    "        img = sitk.ReadImage(path + item[0] +'.jpeg')\n",
    "        img = sitk.GetArrayFromImage(img)\n",
    "        img = cv.resize(img,(image_size,image_size))\n",
    "        \n",
    "        if item[1]==0:\n",
    "            io.imsave(f'D:/Kaggle datasets/Thesis/Diabetic_Retinopathy/{dataset}/Level_0/'+item[0]+f'_{dataset}_Level_0.png',img)\n",
    "        elif item[1]==1:\n",
    "            io.imsave(f'D:/Kaggle datasets/Thesis/Diabetic_Retinopathy/{dataset}/Level_1/'+item[0]+f'_{dataset}_Level_1.png',img)\n",
    "        elif item[1]==2:\n",
    "            io.imsave(f'D:/Kaggle datasets/Thesis/Diabetic_Retinopathy/{dataset}/Level_2/'+item[0]+f'_{dataset}_Level_2.png',img)\n",
    "        elif item[1]==3:\n",
    "            io.imsave(f'D:/Kaggle datasets/Thesis/Diabetic_Retinopathy/{dataset}/Level_3/'+item[0]+f'_{dataset}_Level_3.png',img)\n",
    "        else:\n",
    "            io.imsave(f'D:/Kaggle datasets/Thesis/Diabetic_Retinopathy/{dataset}/Level_4/'+item[0]+f'_{dataset}_Level_4.png',img)"
   ]
  },
  {
   "cell_type": "code",
   "execution_count": 10,
   "metadata": {},
   "outputs": [
    {
     "name": "stderr",
     "output_type": "stream",
     "text": [
      "C:\\Users\\asarkar.NATICK-NT\\.conda\\envs\\gpu\\lib\\site-packages\\ipykernel_launcher.py:12: UserWarning: D:/Kaggle datasets/Thesis/Diabetic_Retinopathy/Train/Level_1/766_left_Train_Level_1.png is a low contrast image\n",
      "  if sys.path[0] == '':\n",
      "C:\\Users\\asarkar.NATICK-NT\\.conda\\envs\\gpu\\lib\\site-packages\\ipykernel_launcher.py:10: UserWarning: D:/Kaggle datasets/Thesis/Diabetic_Retinopathy/Train/Level_0/1557_left_Train_Level_0.png is a low contrast image\n",
      "  # Remove the CWD from sys.path while we load stuff.\n",
      "C:\\Users\\asarkar.NATICK-NT\\.conda\\envs\\gpu\\lib\\site-packages\\ipykernel_launcher.py:10: UserWarning: D:/Kaggle datasets/Thesis/Diabetic_Retinopathy/Train/Level_0/1986_left_Train_Level_0.png is a low contrast image\n",
      "  # Remove the CWD from sys.path while we load stuff.\n",
      "C:\\Users\\asarkar.NATICK-NT\\.conda\\envs\\gpu\\lib\\site-packages\\ipykernel_launcher.py:10: UserWarning: D:/Kaggle datasets/Thesis/Diabetic_Retinopathy/Train/Level_0/2516_left_Train_Level_0.png is a low contrast image\n",
      "  # Remove the CWD from sys.path while we load stuff.\n",
      "C:\\Users\\asarkar.NATICK-NT\\.conda\\envs\\gpu\\lib\\site-packages\\ipykernel_launcher.py:10: UserWarning: D:/Kaggle datasets/Thesis/Diabetic_Retinopathy/Train/Level_0/2857_right_Train_Level_0.png is a low contrast image\n",
      "  # Remove the CWD from sys.path while we load stuff.\n",
      "C:\\Users\\asarkar.NATICK-NT\\.conda\\envs\\gpu\\lib\\site-packages\\ipykernel_launcher.py:14: UserWarning: D:/Kaggle datasets/Thesis/Diabetic_Retinopathy/Train/Level_2/3829_left_Train_Level_2.png is a low contrast image\n",
      "  \n",
      "C:\\Users\\asarkar.NATICK-NT\\.conda\\envs\\gpu\\lib\\site-packages\\ipykernel_launcher.py:14: UserWarning: D:/Kaggle datasets/Thesis/Diabetic_Retinopathy/Train/Level_2/9590_left_Train_Level_2.png is a low contrast image\n",
      "  \n",
      "C:\\Users\\asarkar.NATICK-NT\\.conda\\envs\\gpu\\lib\\site-packages\\ipykernel_launcher.py:10: UserWarning: D:/Kaggle datasets/Thesis/Diabetic_Retinopathy/Train/Level_0/10464_left_Train_Level_0.png is a low contrast image\n",
      "  # Remove the CWD from sys.path while we load stuff.\n",
      "C:\\Users\\asarkar.NATICK-NT\\.conda\\envs\\gpu\\lib\\site-packages\\ipykernel_launcher.py:10: UserWarning: D:/Kaggle datasets/Thesis/Diabetic_Retinopathy/Train/Level_0/10996_left_Train_Level_0.png is a low contrast image\n",
      "  # Remove the CWD from sys.path while we load stuff.\n",
      "C:\\Users\\asarkar.NATICK-NT\\.conda\\envs\\gpu\\lib\\site-packages\\ipykernel_launcher.py:14: UserWarning: D:/Kaggle datasets/Thesis/Diabetic_Retinopathy/Train/Level_2/11648_left_Train_Level_2.png is a low contrast image\n",
      "  \n",
      "C:\\Users\\asarkar.NATICK-NT\\.conda\\envs\\gpu\\lib\\site-packages\\ipykernel_launcher.py:14: UserWarning: D:/Kaggle datasets/Thesis/Diabetic_Retinopathy/Train/Level_2/12329_right_Train_Level_2.png is a low contrast image\n",
      "  \n",
      "C:\\Users\\asarkar.NATICK-NT\\.conda\\envs\\gpu\\lib\\site-packages\\ipykernel_launcher.py:14: UserWarning: D:/Kaggle datasets/Thesis/Diabetic_Retinopathy/Train/Level_2/13627_left_Train_Level_2.png is a low contrast image\n",
      "  \n",
      "C:\\Users\\asarkar.NATICK-NT\\.conda\\envs\\gpu\\lib\\site-packages\\ipykernel_launcher.py:14: UserWarning: D:/Kaggle datasets/Thesis/Diabetic_Retinopathy/Train/Level_2/14915_right_Train_Level_2.png is a low contrast image\n",
      "  \n",
      "C:\\Users\\asarkar.NATICK-NT\\.conda\\envs\\gpu\\lib\\site-packages\\ipykernel_launcher.py:18: UserWarning: D:/Kaggle datasets/Thesis/Diabetic_Retinopathy/Train/Level_4/15038_right_Train_Level_4.png is a low contrast image\n",
      "C:\\Users\\asarkar.NATICK-NT\\.conda\\envs\\gpu\\lib\\site-packages\\ipykernel_launcher.py:14: UserWarning: D:/Kaggle datasets/Thesis/Diabetic_Retinopathy/Train/Level_2/15222_left_Train_Level_2.png is a low contrast image\n",
      "  \n",
      "C:\\Users\\asarkar.NATICK-NT\\.conda\\envs\\gpu\\lib\\site-packages\\ipykernel_launcher.py:12: UserWarning: D:/Kaggle datasets/Thesis/Diabetic_Retinopathy/Train/Level_1/18972_left_Train_Level_1.png is a low contrast image\n",
      "  if sys.path[0] == '':\n",
      "C:\\Users\\asarkar.NATICK-NT\\.conda\\envs\\gpu\\lib\\site-packages\\ipykernel_launcher.py:14: UserWarning: D:/Kaggle datasets/Thesis/Diabetic_Retinopathy/Train/Level_2/20824_right_Train_Level_2.png is a low contrast image\n",
      "  \n",
      "C:\\Users\\asarkar.NATICK-NT\\.conda\\envs\\gpu\\lib\\site-packages\\ipykernel_launcher.py:10: UserWarning: D:/Kaggle datasets/Thesis/Diabetic_Retinopathy/Train/Level_0/21118_left_Train_Level_0.png is a low contrast image\n",
      "  # Remove the CWD from sys.path while we load stuff.\n",
      "C:\\Users\\asarkar.NATICK-NT\\.conda\\envs\\gpu\\lib\\site-packages\\ipykernel_launcher.py:10: UserWarning: D:/Kaggle datasets/Thesis/Diabetic_Retinopathy/Train/Level_0/25360_left_Train_Level_0.png is a low contrast image\n",
      "  # Remove the CWD from sys.path while we load stuff.\n",
      "C:\\Users\\asarkar.NATICK-NT\\.conda\\envs\\gpu\\lib\\site-packages\\ipykernel_launcher.py:16: UserWarning: D:/Kaggle datasets/Thesis/Diabetic_Retinopathy/Train/Level_3/25385_left_Train_Level_3.png is a low contrast image\n",
      "  app.launch_new_instance()\n",
      "C:\\Users\\asarkar.NATICK-NT\\.conda\\envs\\gpu\\lib\\site-packages\\ipykernel_launcher.py:10: UserWarning: D:/Kaggle datasets/Thesis/Diabetic_Retinopathy/Train/Level_0/26064_left_Train_Level_0.png is a low contrast image\n",
      "  # Remove the CWD from sys.path while we load stuff.\n",
      "C:\\Users\\asarkar.NATICK-NT\\.conda\\envs\\gpu\\lib\\site-packages\\ipykernel_launcher.py:10: UserWarning: D:/Kaggle datasets/Thesis/Diabetic_Retinopathy/Train/Level_0/26064_right_Train_Level_0.png is a low contrast image\n",
      "  # Remove the CWD from sys.path while we load stuff.\n",
      "C:\\Users\\asarkar.NATICK-NT\\.conda\\envs\\gpu\\lib\\site-packages\\ipykernel_launcher.py:10: UserWarning: D:/Kaggle datasets/Thesis/Diabetic_Retinopathy/Train/Level_0/27481_right_Train_Level_0.png is a low contrast image\n",
      "  # Remove the CWD from sys.path while we load stuff.\n",
      "C:\\Users\\asarkar.NATICK-NT\\.conda\\envs\\gpu\\lib\\site-packages\\ipykernel_launcher.py:12: UserWarning: D:/Kaggle datasets/Thesis/Diabetic_Retinopathy/Train/Level_1/32253_right_Train_Level_1.png is a low contrast image\n",
      "  if sys.path[0] == '':\n",
      "C:\\Users\\asarkar.NATICK-NT\\.conda\\envs\\gpu\\lib\\site-packages\\ipykernel_launcher.py:10: UserWarning: D:/Kaggle datasets/Thesis/Diabetic_Retinopathy/Train/Level_0/34689_left_Train_Level_0.png is a low contrast image\n",
      "  # Remove the CWD from sys.path while we load stuff.\n",
      "C:\\Users\\asarkar.NATICK-NT\\.conda\\envs\\gpu\\lib\\site-packages\\ipykernel_launcher.py:10: UserWarning: D:/Kaggle datasets/Thesis/Diabetic_Retinopathy/Train/Level_0/36852_left_Train_Level_0.png is a low contrast image\n",
      "  # Remove the CWD from sys.path while we load stuff.\n",
      "C:\\Users\\asarkar.NATICK-NT\\.conda\\envs\\gpu\\lib\\site-packages\\ipykernel_launcher.py:10: UserWarning: D:/Kaggle datasets/Thesis/Diabetic_Retinopathy/Train/Level_0/37790_right_Train_Level_0.png is a low contrast image\n",
      "  # Remove the CWD from sys.path while we load stuff.\n",
      "C:\\Users\\asarkar.NATICK-NT\\.conda\\envs\\gpu\\lib\\site-packages\\ipykernel_launcher.py:10: UserWarning: D:/Kaggle datasets/Thesis/Diabetic_Retinopathy/Train/Level_0/41176_left_Train_Level_0.png is a low contrast image\n",
      "  # Remove the CWD from sys.path while we load stuff.\n",
      "C:\\Users\\asarkar.NATICK-NT\\.conda\\envs\\gpu\\lib\\site-packages\\ipykernel_launcher.py:14: UserWarning: D:/Kaggle datasets/Thesis/Diabetic_Retinopathy/Train/Level_2/42832_left_Train_Level_2.png is a low contrast image\n",
      "  \n",
      "C:\\Users\\asarkar.NATICK-NT\\.conda\\envs\\gpu\\lib\\site-packages\\ipykernel_launcher.py:10: UserWarning: D:/Kaggle datasets/Thesis/Diabetic_Retinopathy/Train/Level_0/43452_left_Train_Level_0.png is a low contrast image\n",
      "  # Remove the CWD from sys.path while we load stuff.\n",
      "C:\\Users\\asarkar.NATICK-NT\\.conda\\envs\\gpu\\lib\\site-packages\\ipykernel_launcher.py:12: UserWarning: D:/Kaggle datasets/Thesis/Diabetic_Retinopathy/Train/Level_1/43457_left_Train_Level_1.png is a low contrast image\n",
      "  if sys.path[0] == '':\n",
      "C:\\Users\\asarkar.NATICK-NT\\.conda\\envs\\gpu\\lib\\site-packages\\ipykernel_launcher.py:14: UserWarning: D:/Kaggle datasets/Thesis/Diabetic_Retinopathy/Train/Level_2/43921_left_Train_Level_2.png is a low contrast image\n",
      "  \n"
     ]
    },
    {
     "name": "stdout",
     "output_type": "stream",
     "text": [
      "Training set created\n"
     ]
    }
   ],
   "source": [
    "path_train = 'D:/Kaggle datasets/diabetic-retinopathy-detection/train/'\n",
    "\n",
    "create_dataset(df_train,path_train,image_size=512,dataset='Train')\n",
    "\n",
    "print('Training set created')"
   ]
  },
  {
   "cell_type": "code",
   "execution_count": 11,
   "metadata": {},
   "outputs": [
    {
     "name": "stderr",
     "output_type": "stream",
     "text": [
      "C:\\Users\\asarkar.NATICK-NT\\.conda\\envs\\gpu\\lib\\site-packages\\ipykernel_launcher.py:10: UserWarning: D:/Kaggle datasets/Thesis/Diabetic_Retinopathy/Test/Level_0/586_left_Test_Level_0.png is a low contrast image\n",
      "  # Remove the CWD from sys.path while we load stuff.\n",
      "C:\\Users\\asarkar.NATICK-NT\\.conda\\envs\\gpu\\lib\\site-packages\\ipykernel_launcher.py:10: UserWarning: D:/Kaggle datasets/Thesis/Diabetic_Retinopathy/Test/Level_0/3517_left_Test_Level_0.png is a low contrast image\n",
      "  # Remove the CWD from sys.path while we load stuff.\n",
      "C:\\Users\\asarkar.NATICK-NT\\.conda\\envs\\gpu\\lib\\site-packages\\ipykernel_launcher.py:10: UserWarning: D:/Kaggle datasets/Thesis/Diabetic_Retinopathy/Test/Level_0/4751_right_Test_Level_0.png is a low contrast image\n",
      "  # Remove the CWD from sys.path while we load stuff.\n",
      "C:\\Users\\asarkar.NATICK-NT\\.conda\\envs\\gpu\\lib\\site-packages\\ipykernel_launcher.py:10: UserWarning: D:/Kaggle datasets/Thesis/Diabetic_Retinopathy/Test/Level_0/5231_left_Test_Level_0.png is a low contrast image\n",
      "  # Remove the CWD from sys.path while we load stuff.\n",
      "C:\\Users\\asarkar.NATICK-NT\\.conda\\envs\\gpu\\lib\\site-packages\\ipykernel_launcher.py:10: UserWarning: D:/Kaggle datasets/Thesis/Diabetic_Retinopathy/Test/Level_0/8255_right_Test_Level_0.png is a low contrast image\n",
      "  # Remove the CWD from sys.path while we load stuff.\n",
      "C:\\Users\\asarkar.NATICK-NT\\.conda\\envs\\gpu\\lib\\site-packages\\ipykernel_launcher.py:10: UserWarning: D:/Kaggle datasets/Thesis/Diabetic_Retinopathy/Test/Level_0/8528_left_Test_Level_0.png is a low contrast image\n",
      "  # Remove the CWD from sys.path while we load stuff.\n",
      "C:\\Users\\asarkar.NATICK-NT\\.conda\\envs\\gpu\\lib\\site-packages\\ipykernel_launcher.py:10: UserWarning: D:/Kaggle datasets/Thesis/Diabetic_Retinopathy/Test/Level_0/9666_left_Test_Level_0.png is a low contrast image\n",
      "  # Remove the CWD from sys.path while we load stuff.\n",
      "C:\\Users\\asarkar.NATICK-NT\\.conda\\envs\\gpu\\lib\\site-packages\\ipykernel_launcher.py:10: UserWarning: D:/Kaggle datasets/Thesis/Diabetic_Retinopathy/Test/Level_0/9666_right_Test_Level_0.png is a low contrast image\n",
      "  # Remove the CWD from sys.path while we load stuff.\n",
      "C:\\Users\\asarkar.NATICK-NT\\.conda\\envs\\gpu\\lib\\site-packages\\ipykernel_launcher.py:16: UserWarning: D:/Kaggle datasets/Thesis/Diabetic_Retinopathy/Test/Level_3/9862_left_Test_Level_3.png is a low contrast image\n",
      "  app.launch_new_instance()\n",
      "C:\\Users\\asarkar.NATICK-NT\\.conda\\envs\\gpu\\lib\\site-packages\\ipykernel_launcher.py:16: UserWarning: D:/Kaggle datasets/Thesis/Diabetic_Retinopathy/Test/Level_3/9862_right_Test_Level_3.png is a low contrast image\n",
      "  app.launch_new_instance()\n",
      "C:\\Users\\asarkar.NATICK-NT\\.conda\\envs\\gpu\\lib\\site-packages\\ipykernel_launcher.py:10: UserWarning: D:/Kaggle datasets/Thesis/Diabetic_Retinopathy/Test/Level_0/9920_left_Test_Level_0.png is a low contrast image\n",
      "  # Remove the CWD from sys.path while we load stuff.\n",
      "C:\\Users\\asarkar.NATICK-NT\\.conda\\envs\\gpu\\lib\\site-packages\\ipykernel_launcher.py:16: UserWarning: D:/Kaggle datasets/Thesis/Diabetic_Retinopathy/Test/Level_3/9936_right_Test_Level_3.png is a low contrast image\n",
      "  app.launch_new_instance()\n",
      "C:\\Users\\asarkar.NATICK-NT\\.conda\\envs\\gpu\\lib\\site-packages\\ipykernel_launcher.py:12: UserWarning: D:/Kaggle datasets/Thesis/Diabetic_Retinopathy/Test/Level_1/11538_right_Test_Level_1.png is a low contrast image\n",
      "  if sys.path[0] == '':\n",
      "C:\\Users\\asarkar.NATICK-NT\\.conda\\envs\\gpu\\lib\\site-packages\\ipykernel_launcher.py:14: UserWarning: D:/Kaggle datasets/Thesis/Diabetic_Retinopathy/Test/Level_2/12180_left_Test_Level_2.png is a low contrast image\n",
      "  \n",
      "C:\\Users\\asarkar.NATICK-NT\\.conda\\envs\\gpu\\lib\\site-packages\\ipykernel_launcher.py:14: UserWarning: D:/Kaggle datasets/Thesis/Diabetic_Retinopathy/Test/Level_2/13778_right_Test_Level_2.png is a low contrast image\n",
      "  \n",
      "C:\\Users\\asarkar.NATICK-NT\\.conda\\envs\\gpu\\lib\\site-packages\\ipykernel_launcher.py:10: UserWarning: D:/Kaggle datasets/Thesis/Diabetic_Retinopathy/Test/Level_0/15078_left_Test_Level_0.png is a low contrast image\n",
      "  # Remove the CWD from sys.path while we load stuff.\n",
      "C:\\Users\\asarkar.NATICK-NT\\.conda\\envs\\gpu\\lib\\site-packages\\ipykernel_launcher.py:14: UserWarning: D:/Kaggle datasets/Thesis/Diabetic_Retinopathy/Test/Level_2/16349_left_Test_Level_2.png is a low contrast image\n",
      "  \n",
      "C:\\Users\\asarkar.NATICK-NT\\.conda\\envs\\gpu\\lib\\site-packages\\ipykernel_launcher.py:10: UserWarning: D:/Kaggle datasets/Thesis/Diabetic_Retinopathy/Test/Level_0/16519_left_Test_Level_0.png is a low contrast image\n",
      "  # Remove the CWD from sys.path while we load stuff.\n",
      "C:\\Users\\asarkar.NATICK-NT\\.conda\\envs\\gpu\\lib\\site-packages\\ipykernel_launcher.py:10: UserWarning: D:/Kaggle datasets/Thesis/Diabetic_Retinopathy/Test/Level_0/17078_left_Test_Level_0.png is a low contrast image\n",
      "  # Remove the CWD from sys.path while we load stuff.\n",
      "C:\\Users\\asarkar.NATICK-NT\\.conda\\envs\\gpu\\lib\\site-packages\\ipykernel_launcher.py:18: UserWarning: D:/Kaggle datasets/Thesis/Diabetic_Retinopathy/Test/Level_4/17157_left_Test_Level_4.png is a low contrast image\n",
      "C:\\Users\\asarkar.NATICK-NT\\.conda\\envs\\gpu\\lib\\site-packages\\ipykernel_launcher.py:10: UserWarning: D:/Kaggle datasets/Thesis/Diabetic_Retinopathy/Test/Level_0/17434_left_Test_Level_0.png is a low contrast image\n",
      "  # Remove the CWD from sys.path while we load stuff.\n",
      "C:\\Users\\asarkar.NATICK-NT\\.conda\\envs\\gpu\\lib\\site-packages\\ipykernel_launcher.py:14: UserWarning: D:/Kaggle datasets/Thesis/Diabetic_Retinopathy/Test/Level_2/19150_right_Test_Level_2.png is a low contrast image\n",
      "  \n",
      "C:\\Users\\asarkar.NATICK-NT\\.conda\\envs\\gpu\\lib\\site-packages\\ipykernel_launcher.py:10: UserWarning: D:/Kaggle datasets/Thesis/Diabetic_Retinopathy/Test/Level_0/19844_left_Test_Level_0.png is a low contrast image\n",
      "  # Remove the CWD from sys.path while we load stuff.\n",
      "C:\\Users\\asarkar.NATICK-NT\\.conda\\envs\\gpu\\lib\\site-packages\\ipykernel_launcher.py:10: UserWarning: D:/Kaggle datasets/Thesis/Diabetic_Retinopathy/Test/Level_0/20222_left_Test_Level_0.png is a low contrast image\n",
      "  # Remove the CWD from sys.path while we load stuff.\n",
      "C:\\Users\\asarkar.NATICK-NT\\.conda\\envs\\gpu\\lib\\site-packages\\ipykernel_launcher.py:10: UserWarning: D:/Kaggle datasets/Thesis/Diabetic_Retinopathy/Test/Level_0/20585_right_Test_Level_0.png is a low contrast image\n",
      "  # Remove the CWD from sys.path while we load stuff.\n",
      "C:\\Users\\asarkar.NATICK-NT\\.conda\\envs\\gpu\\lib\\site-packages\\ipykernel_launcher.py:14: UserWarning: D:/Kaggle datasets/Thesis/Diabetic_Retinopathy/Test/Level_2/20917_left_Test_Level_2.png is a low contrast image\n",
      "  \n",
      "C:\\Users\\asarkar.NATICK-NT\\.conda\\envs\\gpu\\lib\\site-packages\\ipykernel_launcher.py:10: UserWarning: D:/Kaggle datasets/Thesis/Diabetic_Retinopathy/Test/Level_0/22513_right_Test_Level_0.png is a low contrast image\n",
      "  # Remove the CWD from sys.path while we load stuff.\n",
      "C:\\Users\\asarkar.NATICK-NT\\.conda\\envs\\gpu\\lib\\site-packages\\ipykernel_launcher.py:14: UserWarning: D:/Kaggle datasets/Thesis/Diabetic_Retinopathy/Test/Level_2/22533_right_Test_Level_2.png is a low contrast image\n",
      "  \n",
      "C:\\Users\\asarkar.NATICK-NT\\.conda\\envs\\gpu\\lib\\site-packages\\ipykernel_launcher.py:10: UserWarning: D:/Kaggle datasets/Thesis/Diabetic_Retinopathy/Test/Level_0/25313_right_Test_Level_0.png is a low contrast image\n",
      "  # Remove the CWD from sys.path while we load stuff.\n",
      "C:\\Users\\asarkar.NATICK-NT\\.conda\\envs\\gpu\\lib\\site-packages\\ipykernel_launcher.py:10: UserWarning: D:/Kaggle datasets/Thesis/Diabetic_Retinopathy/Test/Level_0/26634_left_Test_Level_0.png is a low contrast image\n",
      "  # Remove the CWD from sys.path while we load stuff.\n",
      "C:\\Users\\asarkar.NATICK-NT\\.conda\\envs\\gpu\\lib\\site-packages\\ipykernel_launcher.py:14: UserWarning: D:/Kaggle datasets/Thesis/Diabetic_Retinopathy/Test/Level_2/28544_left_Test_Level_2.png is a low contrast image\n",
      "  \n",
      "C:\\Users\\asarkar.NATICK-NT\\.conda\\envs\\gpu\\lib\\site-packages\\ipykernel_launcher.py:10: UserWarning: D:/Kaggle datasets/Thesis/Diabetic_Retinopathy/Test/Level_0/30193_right_Test_Level_0.png is a low contrast image\n",
      "  # Remove the CWD from sys.path while we load stuff.\n",
      "C:\\Users\\asarkar.NATICK-NT\\.conda\\envs\\gpu\\lib\\site-packages\\ipykernel_launcher.py:10: UserWarning: D:/Kaggle datasets/Thesis/Diabetic_Retinopathy/Test/Level_0/30412_left_Test_Level_0.png is a low contrast image\n",
      "  # Remove the CWD from sys.path while we load stuff.\n",
      "C:\\Users\\asarkar.NATICK-NT\\.conda\\envs\\gpu\\lib\\site-packages\\ipykernel_launcher.py:10: UserWarning: D:/Kaggle datasets/Thesis/Diabetic_Retinopathy/Test/Level_0/31318_left_Test_Level_0.png is a low contrast image\n",
      "  # Remove the CWD from sys.path while we load stuff.\n",
      "C:\\Users\\asarkar.NATICK-NT\\.conda\\envs\\gpu\\lib\\site-packages\\ipykernel_launcher.py:10: UserWarning: D:/Kaggle datasets/Thesis/Diabetic_Retinopathy/Test/Level_0/31686_left_Test_Level_0.png is a low contrast image\n",
      "  # Remove the CWD from sys.path while we load stuff.\n",
      "C:\\Users\\asarkar.NATICK-NT\\.conda\\envs\\gpu\\lib\\site-packages\\ipykernel_launcher.py:14: UserWarning: D:/Kaggle datasets/Thesis/Diabetic_Retinopathy/Test/Level_2/33134_left_Test_Level_2.png is a low contrast image\n",
      "  \n",
      "C:\\Users\\asarkar.NATICK-NT\\.conda\\envs\\gpu\\lib\\site-packages\\ipykernel_launcher.py:10: UserWarning: D:/Kaggle datasets/Thesis/Diabetic_Retinopathy/Test/Level_0/33965_right_Test_Level_0.png is a low contrast image\n",
      "  # Remove the CWD from sys.path while we load stuff.\n",
      "C:\\Users\\asarkar.NATICK-NT\\.conda\\envs\\gpu\\lib\\site-packages\\ipykernel_launcher.py:18: UserWarning: D:/Kaggle datasets/Thesis/Diabetic_Retinopathy/Test/Level_4/35433_left_Test_Level_4.png is a low contrast image\n",
      "C:\\Users\\asarkar.NATICK-NT\\.conda\\envs\\gpu\\lib\\site-packages\\ipykernel_launcher.py:10: UserWarning: D:/Kaggle datasets/Thesis/Diabetic_Retinopathy/Test/Level_0/35762_left_Test_Level_0.png is a low contrast image\n",
      "  # Remove the CWD from sys.path while we load stuff.\n",
      "C:\\Users\\asarkar.NATICK-NT\\.conda\\envs\\gpu\\lib\\site-packages\\ipykernel_launcher.py:10: UserWarning: D:/Kaggle datasets/Thesis/Diabetic_Retinopathy/Test/Level_0/37136_left_Test_Level_0.png is a low contrast image\n",
      "  # Remove the CWD from sys.path while we load stuff.\n",
      "C:\\Users\\asarkar.NATICK-NT\\.conda\\envs\\gpu\\lib\\site-packages\\ipykernel_launcher.py:10: UserWarning: D:/Kaggle datasets/Thesis/Diabetic_Retinopathy/Test/Level_0/38271_left_Test_Level_0.png is a low contrast image\n",
      "  # Remove the CWD from sys.path while we load stuff.\n",
      "C:\\Users\\asarkar.NATICK-NT\\.conda\\envs\\gpu\\lib\\site-packages\\ipykernel_launcher.py:10: UserWarning: D:/Kaggle datasets/Thesis/Diabetic_Retinopathy/Test/Level_0/38294_left_Test_Level_0.png is a low contrast image\n",
      "  # Remove the CWD from sys.path while we load stuff.\n",
      "C:\\Users\\asarkar.NATICK-NT\\.conda\\envs\\gpu\\lib\\site-packages\\ipykernel_launcher.py:10: UserWarning: D:/Kaggle datasets/Thesis/Diabetic_Retinopathy/Test/Level_0/38549_left_Test_Level_0.png is a low contrast image\n",
      "  # Remove the CWD from sys.path while we load stuff.\n",
      "C:\\Users\\asarkar.NATICK-NT\\.conda\\envs\\gpu\\lib\\site-packages\\ipykernel_launcher.py:14: UserWarning: D:/Kaggle datasets/Thesis/Diabetic_Retinopathy/Test/Level_2/40170_left_Test_Level_2.png is a low contrast image\n",
      "  \n",
      "C:\\Users\\asarkar.NATICK-NT\\.conda\\envs\\gpu\\lib\\site-packages\\ipykernel_launcher.py:12: UserWarning: D:/Kaggle datasets/Thesis/Diabetic_Retinopathy/Test/Level_1/40268_left_Test_Level_1.png is a low contrast image\n",
      "  if sys.path[0] == '':\n",
      "C:\\Users\\asarkar.NATICK-NT\\.conda\\envs\\gpu\\lib\\site-packages\\ipykernel_launcher.py:10: UserWarning: D:/Kaggle datasets/Thesis/Diabetic_Retinopathy/Test/Level_0/40544_right_Test_Level_0.png is a low contrast image\n",
      "  # Remove the CWD from sys.path while we load stuff.\n"
     ]
    },
    {
     "name": "stdout",
     "output_type": "stream",
     "text": [
      "Test set created\n"
     ]
    }
   ],
   "source": [
    "path_test = 'D:/Kaggle datasets/diabetic-retinopathy-detection/test/'\n",
    "\n",
    "create_dataset(df_test,path_test,image_size=512,dataset='Test')\n",
    "\n",
    "print('Test set created')"
   ]
  },
  {
   "cell_type": "code",
   "execution_count": 12,
   "metadata": {},
   "outputs": [
    {
     "name": "stdout",
     "output_type": "stream",
     "text": [
      "--- 21920.613896608353 seconds ---\n"
     ]
    }
   ],
   "source": [
    "end_time= time.time()\n",
    "\n",
    "print(\"--- %s seconds ---\" % (end_time - start_time))"
   ]
  },
  {
   "cell_type": "code",
   "execution_count": null,
   "metadata": {},
   "outputs": [],
   "source": []
  }
 ],
 "metadata": {
  "kernelspec": {
   "display_name": "Python 3",
   "language": "python",
   "name": "python3"
  },
  "language_info": {
   "codemirror_mode": {
    "name": "ipython",
    "version": 3
   },
   "file_extension": ".py",
   "mimetype": "text/x-python",
   "name": "python",
   "nbconvert_exporter": "python",
   "pygments_lexer": "ipython3",
   "version": "3.7.9"
  }
 },
 "nbformat": 4,
 "nbformat_minor": 4
}
