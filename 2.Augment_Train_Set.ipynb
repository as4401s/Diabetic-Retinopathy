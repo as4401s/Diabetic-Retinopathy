{
 "cells": [
  {
   "cell_type": "code",
   "execution_count": 1,
   "metadata": {},
   "outputs": [],
   "source": [
    "import os\n",
    "import cv2 as cv\n",
    "import SimpleITK as sitk\n",
    "import random\n",
    "import matplotlib.pyplot as plt\n",
    "import numpy as np\n",
    "from skimage import io \n",
    "from skimage.transform import rotate, AffineTransform, warp\n",
    "from skimage.util import random_noise\n",
    "import pandas as pd\n",
    "import tensorflow as tf\n",
    "import csv\n",
    "import imutils"
   ]
  },
  {
   "cell_type": "code",
   "execution_count": 2,
   "metadata": {},
   "outputs": [
    {
     "name": "stdout",
     "output_type": "stream",
     "text": [
      "Directory already exists\n"
     ]
    }
   ],
   "source": [
    "if not os.path.exists('D:/Kaggle datasets/Thesis_Diabetic/Diabetic_Retinopathy/Augmented'):\n",
    "    \n",
    "    try:\n",
    "        \n",
    "        os.mkdir('D:/Kaggle datasets/Thesis_Diabetic/Diabetic_Retinopathy/Augmented/')\n",
    "        os.mkdir('D:/Kaggle datasets/Thesis_Diabetic/Diabetic_Retinopathy/Augmented/Train')\n",
    "        os.mkdir('D:/Kaggle datasets/Thesis_Diabetic/Diabetic_Retinopathy/Augmented/Train/Level_0')\n",
    "        os.mkdir('D:/Kaggle datasets/Thesis_Diabetic/Diabetic_Retinopathy/Augmented/Train/Level_1')\n",
    "        os.mkdir('D:/Kaggle datasets/Thesis_Diabetic/Diabetic_Retinopathy/Augmented/Train/Level_2')\n",
    "        os.mkdir('D:/Kaggle datasets/Thesis_Diabetic/Diabetic_Retinopathy/Augmented/Train/Level_3')\n",
    "        os.mkdir('D:/Kaggle datasets/Thesis_Diabetic/Diabetic_Retinopathy/Augmented/Train/Level_4')\n",
    "        \n",
    "    except OSError:\n",
    "        \n",
    "        print('Creation of directory failed')\n",
    "        \n",
    "    else:\n",
    "        \n",
    "        print('Successfully created directory')\n",
    "        \n",
    "else:\n",
    "    \n",
    "    print('Directory already exists')"
   ]
  },
  {
   "cell_type": "code",
   "execution_count": 3,
   "metadata": {},
   "outputs": [],
   "source": [
    "image_size = 1024"
   ]
  },
  {
   "cell_type": "code",
   "execution_count": 4,
   "metadata": {},
   "outputs": [],
   "source": [
    "def create_csv(name,image_path):\n",
    "    \n",
    "    data=[]\n",
    "    \n",
    "    with open(f'{name}.csv', 'w', newline='') as writeFile:\n",
    "        writer = csv.writer(writeFile)\n",
    "        for filename in os.listdir(image_path):\n",
    "            data.append(filename)\n",
    "            writer.writerow(data)\n",
    "            data=[]\n",
    "    writeFile.close()"
   ]
  },
  {
   "cell_type": "code",
   "execution_count": 5,
   "metadata": {},
   "outputs": [],
   "source": [
    "name0 = 'Level_0'\n",
    "path0 = 'D:/Kaggle datasets/Thesis_Diabetic/Diabetic_Retinopathy/Train/Level_0/'\n",
    "create_csv(name=name0,image_path=path0)\n",
    "\n",
    "name1 = 'Level_1'\n",
    "path1 = 'D:/Kaggle datasets/Thesis_Diabetic/Diabetic_Retinopathy/Train/Level_1/'\n",
    "create_csv(name=name1,image_path=path1)\n",
    "\n",
    "name2 = 'Level_2'\n",
    "path2 = 'D:/Kaggle datasets/Thesis_Diabetic/Diabetic_Retinopathy/Train/Level_2/'\n",
    "create_csv(name=name2,image_path=path2)\n",
    "\n",
    "name3 = 'Level_3'\n",
    "path3 = 'D:/Kaggle datasets/Thesis_Diabetic/Diabetic_Retinopathy/Train/Level_3/'\n",
    "create_csv(name=name3,image_path=path3)\n",
    "\n",
    "name4 = 'Level_4'\n",
    "path4 = 'D:/Kaggle datasets/Thesis_Diabetic/Diabetic_Retinopathy/Train/Level_4/'\n",
    "create_csv(name=name4,image_path=path4)"
   ]
  },
  {
   "cell_type": "code",
   "execution_count": 6,
   "metadata": {},
   "outputs": [
    {
     "data": {
      "text/html": [
       "<div>\n",
       "<style scoped>\n",
       "    .dataframe tbody tr th:only-of-type {\n",
       "        vertical-align: middle;\n",
       "    }\n",
       "\n",
       "    .dataframe tbody tr th {\n",
       "        vertical-align: top;\n",
       "    }\n",
       "\n",
       "    .dataframe thead th {\n",
       "        text-align: right;\n",
       "    }\n",
       "</style>\n",
       "<table border=\"1\" class=\"dataframe\">\n",
       "  <thead>\n",
       "    <tr style=\"text-align: right;\">\n",
       "      <th></th>\n",
       "      <th>image</th>\n",
       "      <th>type</th>\n",
       "    </tr>\n",
       "  </thead>\n",
       "  <tbody>\n",
       "    <tr>\n",
       "      <th>0</th>\n",
       "      <td>10003_left_Train_Level_0</td>\n",
       "      <td>png</td>\n",
       "    </tr>\n",
       "    <tr>\n",
       "      <th>1</th>\n",
       "      <td>10003_right_Train_Level_0</td>\n",
       "      <td>png</td>\n",
       "    </tr>\n",
       "    <tr>\n",
       "      <th>2</th>\n",
       "      <td>10007_left_Train_Level_0</td>\n",
       "      <td>png</td>\n",
       "    </tr>\n",
       "    <tr>\n",
       "      <th>3</th>\n",
       "      <td>10007_right_Train_Level_0</td>\n",
       "      <td>png</td>\n",
       "    </tr>\n",
       "    <tr>\n",
       "      <th>4</th>\n",
       "      <td>10009_left_Train_Level_0</td>\n",
       "      <td>png</td>\n",
       "    </tr>\n",
       "  </tbody>\n",
       "</table>\n",
       "</div>"
      ],
      "text/plain": [
       "                       image type\n",
       "0   10003_left_Train_Level_0  png\n",
       "1  10003_right_Train_Level_0  png\n",
       "2   10007_left_Train_Level_0  png\n",
       "3  10007_right_Train_Level_0  png\n",
       "4   10009_left_Train_Level_0  png"
      ]
     },
     "execution_count": 6,
     "metadata": {},
     "output_type": "execute_result"
    }
   ],
   "source": [
    "df_level0 = pd.read_csv('Level_0.csv',delimiter = '.',names=['image','type'])\n",
    "df_level1 = pd.read_csv('Level_1.csv',delimiter = '.',names=['image','type'])\n",
    "df_level2 = pd.read_csv('Level_2.csv',delimiter = '.',names=['image','type'])\n",
    "df_level3 = pd.read_csv('Level_3.csv',delimiter = '.',names=['image','type'])\n",
    "df_level4 = pd.read_csv('Level_4.csv',delimiter = '.',names=['image','type'])\n",
    "\n",
    "df_level0.head()"
   ]
  },
  {
   "cell_type": "code",
   "execution_count": 7,
   "metadata": {},
   "outputs": [],
   "source": [
    "def rotate(image):\n",
    "    \n",
    "    angle = random.randint(0,360)\n",
    "    rotated = imutils.rotate(image,angle)\n",
    "    return rotated\n",
    "\n",
    "def flip (image):\n",
    "    \n",
    "    flipped = np.fliplr(image)\n",
    "    return flipped\n",
    "\n",
    "def flip2 (image):\n",
    "    \n",
    "    flipped = tf.image.random_flip_up_down(image)\n",
    "    return flipped\n",
    "\n",
    "def gamma (image):\n",
    "    \n",
    "    value = random.uniform(0.5,1.5)\n",
    "    gamma = tf.image.adjust_gamma(image, value)\n",
    "    return gamma\n",
    "\n",
    "def translation (image):\n",
    "    \n",
    "    x= random.randint(-100,100)\n",
    "    y = random.randint(-100,100)\n",
    "    rows,cols,z = image.shape\n",
    "    M = np.float32([[1,0,x],[0,1,y]])\n",
    "    translate = cv.warpAffine(image,M,(cols,rows))\n",
    "    return translate\n",
    "\n",
    "def crop (image):\n",
    "    \n",
    "    crop = tf.image.central_crop(image,0.9)\n",
    "    return crop\n",
    "\n",
    "def saturate (image):\n",
    "    \n",
    "    saturated = tf.image.random_saturation(image,2,6)\n",
    "    return saturated\n",
    "\n",
    "def brightness (image):\n",
    "\n",
    "    brightness = tf.image.random_brightness(image,0.4)\n",
    "    return brightness\n",
    "\n",
    "def contrast (image):\n",
    "    \n",
    "    contrast = tf.image.random_contrast(image,0.8,2)\n",
    "    return contrast\n",
    "\n",
    "def hue (image):\n",
    "    \n",
    "    hue = tf.image.random_hue(image,0.5)\n",
    "    return hue"
   ]
  },
  {
   "cell_type": "code",
   "execution_count": 8,
   "metadata": {},
   "outputs": [],
   "source": [
    "def apply_aug (image):\n",
    "    \n",
    "    number = random.randint(1,20)\n",
    "    \n",
    "    if number == 1:\n",
    "        image= rotate(image)\n",
    "            \n",
    "    if number == 2:\n",
    "        image= flip(image)\n",
    "        \n",
    "    if number == 3:\n",
    "        image= flip2(image)\n",
    "        \n",
    "    if number == 4:\n",
    "        image= gamma(image)\n",
    "                \n",
    "    if number == 5:\n",
    "        image= translation(image)\n",
    "        \n",
    "    if number == 6:\n",
    "        image = crop(image)\n",
    "        \n",
    "    if number == 7:\n",
    "        image = saturate(image)\n",
    "        \n",
    "    if number == 8:\n",
    "        image = brightness (image)\n",
    "        \n",
    "    if number == 9:\n",
    "        image = contrast (image)\n",
    "        \n",
    "    if number == 10:\n",
    "        image = hue(image)\n",
    "        \n",
    "    if number == 11:\n",
    "        i = translation(image)\n",
    "        image = rotate(i)\n",
    "    \n",
    "    if number == 12:\n",
    "        i = crop(image)\n",
    "        image = contrast(i)\n",
    "        \n",
    "    if number == 13:\n",
    "        i = rotate(image)\n",
    "        image = crop(i)\n",
    "        \n",
    "    if number == 14:\n",
    "        i = translation(image)\n",
    "        image = gamma(i)\n",
    "        \n",
    "    if number == 15:\n",
    "        i = translation(image)\n",
    "        image = flip(i)\n",
    "        \n",
    "    if number == 16:\n",
    "        i = translation(image)\n",
    "        image = flip2(i)\n",
    "        \n",
    "    if number == 17:\n",
    "        i = flip(image)\n",
    "        image = flip2(i)\n",
    "        \n",
    "    if number == 18:\n",
    "        i = rotate(image)\n",
    "        image = saturate(i)\n",
    "        \n",
    "    if number == 19:\n",
    "        i = rotate(image)\n",
    "        image = flip(i)\n",
    "        \n",
    "    if number == 20:\n",
    "        i = rotate(image)\n",
    "        image = flip2(i)\n",
    "    \n",
    "    return image"
   ]
  },
  {
   "cell_type": "code",
   "execution_count": 10,
   "metadata": {},
   "outputs": [
    {
     "data": {
      "text/plain": [
       "<matplotlib.image.AxesImage at 0x1ffcfeace88>"
      ]
     },
     "execution_count": 10,
     "metadata": {},
     "output_type": "execute_result"
    },
    {
     "data": {
      "image/png": "[encoded data removed]",
      "text/plain": [
       "<Figure size 432x288 with 1 Axes>"
      ]
     },
     "metadata": {
      "needs_background": "light"
     },
     "output_type": "display_data"
    }
   ],
   "source": [
    "img1 = sitk.ReadImage('D:/Kaggle datasets/Thesis_Diabetic/Diabetic_Retinopathy/Train/Level_0/13_left_Train_Level_0.png')\n",
    "img1 = sitk.GetArrayFromImage(img1)\n",
    "image1 = apply_aug(img1)\n",
    "plt.imshow(image1)"
   ]
  },
  {
   "cell_type": "code",
   "execution_count": 11,
   "metadata": {},
   "outputs": [
    {
     "name": "stdout",
     "output_type": "stream",
     "text": [
      "image    21288\n",
      "type     21288\n",
      "dtype: int64\n",
      "image    2060\n",
      "type     2060\n",
      "dtype: int64\n",
      "image    4515\n",
      "type     4515\n",
      "dtype: int64\n",
      "image    739\n",
      "type     739\n",
      "dtype: int64\n",
      "image    588\n",
      "type     588\n",
      "dtype: int64\n"
     ]
    }
   ],
   "source": [
    "print(df_level0.count())\n",
    "print(df_level1.count())\n",
    "print(df_level2.count())\n",
    "print(df_level3.count())\n",
    "print(df_level4.count())"
   ]
  },
  {
   "cell_type": "code",
   "execution_count": 15,
   "metadata": {},
   "outputs": [
    {
     "name": "stdout",
     "output_type": "stream",
     "text": [
      "-15288\n",
      "3940\n",
      "1485\n",
      "5261\n",
      "5412\n"
     ]
    }
   ],
   "source": [
    "create = 6000\n",
    "\n",
    "print (create-21288)\n",
    "print (create-2060)\n",
    "print (create-4515)\n",
    "print (create-739)\n",
    "print (create-588)"
   ]
  },
  {
   "cell_type": "code",
   "execution_count": 16,
   "metadata": {},
   "outputs": [],
   "source": [
    "def oversample_images(iterations,level,df,path,image_size):\n",
    "    \n",
    "    a = 1\n",
    "    p = 1\n",
    "    for a in range(iterations):\n",
    "        \n",
    "        for i, item in df.iterrows():\n",
    "        \n",
    "            img = sitk.ReadImage(path + item[0] + '.png')\n",
    "            img = sitk.GetArrayFromImage(img)\n",
    "            img = apply_aug(img)\n",
    "            \n",
    "            io.imsave(f'D:/Kaggle datasets/Thesis_Diabetic/Diabetic_Retinopathy/Augmented/Train/Level_{level}/{item[0]}_{p}.png',img)\n",
    "            p +=1"
   ]
  },
  {
   "cell_type": "code",
   "execution_count": 17,
   "metadata": {},
   "outputs": [
    {
     "name": "stderr",
     "output_type": "stream",
     "text": [
      "C:\\Users\\asarkar.NATICK-NT\\.conda\\envs\\tf-gpu\\lib\\site-packages\\ipykernel_launcher.py:13: UserWarning: D:/Kaggle datasets/Thesis_Diabetic/Diabetic_Retinopathy/Augmented/Train/Level_1/32253_right_Train_Level_1_1316.png is a low contrast image\n",
      "  del sys.path[0]\n",
      "C:\\Users\\asarkar.NATICK-NT\\.conda\\envs\\tf-gpu\\lib\\site-packages\\ipykernel_launcher.py:13: UserWarning: D:/Kaggle datasets/Thesis_Diabetic/Diabetic_Retinopathy/Augmented/Train/Level_1/37192_right_Train_Level_1_1597.png is a low contrast image\n",
      "  del sys.path[0]\n",
      "C:\\Users\\asarkar.NATICK-NT\\.conda\\envs\\tf-gpu\\lib\\site-packages\\ipykernel_launcher.py:13: UserWarning: D:/Kaggle datasets/Thesis_Diabetic/Diabetic_Retinopathy/Augmented/Train/Level_1/9992_left_Train_Level_1_2059.png is a low contrast image\n",
      "  del sys.path[0]\n",
      "C:\\Users\\asarkar.NATICK-NT\\.conda\\envs\\tf-gpu\\lib\\site-packages\\ipykernel_launcher.py:13: UserWarning: D:/Kaggle datasets/Thesis_Diabetic/Diabetic_Retinopathy/Augmented/Train/Level_1/32253_right_Train_Level_1_3376.png is a low contrast image\n",
      "  del sys.path[0]\n"
     ]
    }
   ],
   "source": [
    "oversample_images(iterations=2,level=1,df=df_level1,path = path1, image_size = 1024)"
   ]
  },
  {
   "cell_type": "code",
   "execution_count": 18,
   "metadata": {},
   "outputs": [
    {
     "name": "stderr",
     "output_type": "stream",
     "text": [
      "C:\\Users\\asarkar.NATICK-NT\\.conda\\envs\\tf-gpu\\lib\\site-packages\\ipykernel_launcher.py:13: UserWarning: D:/Kaggle datasets/Thesis_Diabetic/Diabetic_Retinopathy/Augmented/Train/Level_2/10688_left_Train_Level_2_104.png is a low contrast image\n",
      "  del sys.path[0]\n",
      "C:\\Users\\asarkar.NATICK-NT\\.conda\\envs\\tf-gpu\\lib\\site-packages\\ipykernel_launcher.py:13: UserWarning: D:/Kaggle datasets/Thesis_Diabetic/Diabetic_Retinopathy/Augmented/Train/Level_2/18133_left_Train_Level_2_1061.png is a low contrast image\n",
      "  del sys.path[0]\n",
      "C:\\Users\\asarkar.NATICK-NT\\.conda\\envs\\tf-gpu\\lib\\site-packages\\ipykernel_launcher.py:13: UserWarning: D:/Kaggle datasets/Thesis_Diabetic/Diabetic_Retinopathy/Augmented/Train/Level_2/20824_right_Train_Level_2_1444.png is a low contrast image\n",
      "  del sys.path[0]\n",
      "C:\\Users\\asarkar.NATICK-NT\\.conda\\envs\\tf-gpu\\lib\\site-packages\\ipykernel_launcher.py:13: UserWarning: D:/Kaggle datasets/Thesis_Diabetic/Diabetic_Retinopathy/Augmented/Train/Level_2/32523_left_Train_Level_2_2953.png is a low contrast image\n",
      "  del sys.path[0]\n",
      "C:\\Users\\asarkar.NATICK-NT\\.conda\\envs\\tf-gpu\\lib\\site-packages\\ipykernel_launcher.py:13: UserWarning: D:/Kaggle datasets/Thesis_Diabetic/Diabetic_Retinopathy/Augmented/Train/Level_2/3525_left_Train_Level_2_3287.png is a low contrast image\n",
      "  del sys.path[0]\n",
      "C:\\Users\\asarkar.NATICK-NT\\.conda\\envs\\tf-gpu\\lib\\site-packages\\ipykernel_launcher.py:13: UserWarning: D:/Kaggle datasets/Thesis_Diabetic/Diabetic_Retinopathy/Augmented/Train/Level_2/35621_left_Train_Level_2_3337.png is a low contrast image\n",
      "  del sys.path[0]\n",
      "C:\\Users\\asarkar.NATICK-NT\\.conda\\envs\\tf-gpu\\lib\\site-packages\\ipykernel_launcher.py:13: UserWarning: D:/Kaggle datasets/Thesis_Diabetic/Diabetic_Retinopathy/Augmented/Train/Level_2/4695_right_Train_Level_2_3781.png is a low contrast image\n",
      "  del sys.path[0]\n",
      "C:\\Users\\asarkar.NATICK-NT\\.conda\\envs\\tf-gpu\\lib\\site-packages\\ipykernel_launcher.py:13: UserWarning: D:/Kaggle datasets/Thesis_Diabetic/Diabetic_Retinopathy/Augmented/Train/Level_2/9528_right_Train_Level_2_4424.png is a low contrast image\n",
      "  del sys.path[0]\n"
     ]
    }
   ],
   "source": [
    "oversample_images(iterations=1,level=2,df=df_level2,path = path2, image_size = 1024)"
   ]
  },
  {
   "cell_type": "code",
   "execution_count": 19,
   "metadata": {},
   "outputs": [
    {
     "name": "stderr",
     "output_type": "stream",
     "text": [
      "C:\\Users\\asarkar.NATICK-NT\\.conda\\envs\\tf-gpu\\lib\\site-packages\\ipykernel_launcher.py:13: UserWarning: D:/Kaggle datasets/Thesis_Diabetic/Diabetic_Retinopathy/Augmented/Train/Level_3/2016_right_Train_Level_3_208.png is a low contrast image\n",
      "  del sys.path[0]\n",
      "C:\\Users\\asarkar.NATICK-NT\\.conda\\envs\\tf-gpu\\lib\\site-packages\\ipykernel_launcher.py:13: UserWarning: D:/Kaggle datasets/Thesis_Diabetic/Diabetic_Retinopathy/Augmented/Train/Level_3/25385_left_Train_Level_3_319.png is a low contrast image\n",
      "  del sys.path[0]\n",
      "C:\\Users\\asarkar.NATICK-NT\\.conda\\envs\\tf-gpu\\lib\\site-packages\\ipykernel_launcher.py:13: UserWarning: D:/Kaggle datasets/Thesis_Diabetic/Diabetic_Retinopathy/Augmented/Train/Level_3/25385_left_Train_Level_3_1058.png is a low contrast image\n",
      "  del sys.path[0]\n",
      "C:\\Users\\asarkar.NATICK-NT\\.conda\\envs\\tf-gpu\\lib\\site-packages\\ipykernel_launcher.py:13: UserWarning: D:/Kaggle datasets/Thesis_Diabetic/Diabetic_Retinopathy/Augmented/Train/Level_3/32311_left_Train_Level_3_1211.png is a low contrast image\n",
      "  del sys.path[0]\n",
      "C:\\Users\\asarkar.NATICK-NT\\.conda\\envs\\tf-gpu\\lib\\site-packages\\ipykernel_launcher.py:13: UserWarning: D:/Kaggle datasets/Thesis_Diabetic/Diabetic_Retinopathy/Augmented/Train/Level_3/34006_right_Train_Level_3_1256.png is a low contrast image\n",
      "  del sys.path[0]\n",
      "C:\\Users\\asarkar.NATICK-NT\\.conda\\envs\\tf-gpu\\lib\\site-packages\\ipykernel_launcher.py:13: UserWarning: D:/Kaggle datasets/Thesis_Diabetic/Diabetic_Retinopathy/Augmented/Train/Level_3/24232_right_Train_Level_3_1780.png is a low contrast image\n",
      "  del sys.path[0]\n",
      "C:\\Users\\asarkar.NATICK-NT\\.conda\\envs\\tf-gpu\\lib\\site-packages\\ipykernel_launcher.py:13: UserWarning: D:/Kaggle datasets/Thesis_Diabetic/Diabetic_Retinopathy/Augmented/Train/Level_3/25385_left_Train_Level_3_1797.png is a low contrast image\n",
      "  del sys.path[0]\n",
      "C:\\Users\\asarkar.NATICK-NT\\.conda\\envs\\tf-gpu\\lib\\site-packages\\ipykernel_launcher.py:13: UserWarning: D:/Kaggle datasets/Thesis_Diabetic/Diabetic_Retinopathy/Augmented/Train/Level_3/21746_left_Train_Level_3_2453.png is a low contrast image\n",
      "  del sys.path[0]\n",
      "C:\\Users\\asarkar.NATICK-NT\\.conda\\envs\\tf-gpu\\lib\\site-packages\\ipykernel_launcher.py:13: UserWarning: D:/Kaggle datasets/Thesis_Diabetic/Diabetic_Retinopathy/Augmented/Train/Level_3/25385_left_Train_Level_3_2536.png is a low contrast image\n",
      "  del sys.path[0]\n",
      "C:\\Users\\asarkar.NATICK-NT\\.conda\\envs\\tf-gpu\\lib\\site-packages\\ipykernel_launcher.py:13: UserWarning: D:/Kaggle datasets/Thesis_Diabetic/Diabetic_Retinopathy/Augmented/Train/Level_3/29346_right_Train_Level_3_2620.png is a low contrast image\n",
      "  del sys.path[0]\n",
      "C:\\Users\\asarkar.NATICK-NT\\.conda\\envs\\tf-gpu\\lib\\site-packages\\ipykernel_launcher.py:13: UserWarning: D:/Kaggle datasets/Thesis_Diabetic/Diabetic_Retinopathy/Augmented/Train/Level_3/22978_right_Train_Level_3_3219.png is a low contrast image\n",
      "  del sys.path[0]\n",
      "C:\\Users\\asarkar.NATICK-NT\\.conda\\envs\\tf-gpu\\lib\\site-packages\\ipykernel_launcher.py:13: UserWarning: D:/Kaggle datasets/Thesis_Diabetic/Diabetic_Retinopathy/Augmented/Train/Level_3/25385_left_Train_Level_3_3275.png is a low contrast image\n",
      "  del sys.path[0]\n",
      "C:\\Users\\asarkar.NATICK-NT\\.conda\\envs\\tf-gpu\\lib\\site-packages\\ipykernel_launcher.py:13: UserWarning: D:/Kaggle datasets/Thesis_Diabetic/Diabetic_Retinopathy/Augmented/Train/Level_3/30728_left_Train_Level_3_3385.png is a low contrast image\n",
      "  del sys.path[0]\n",
      "C:\\Users\\asarkar.NATICK-NT\\.conda\\envs\\tf-gpu\\lib\\site-packages\\ipykernel_launcher.py:13: UserWarning: D:/Kaggle datasets/Thesis_Diabetic/Diabetic_Retinopathy/Augmented/Train/Level_3/32221_left_Train_Level_3_3423.png is a low contrast image\n",
      "  del sys.path[0]\n",
      "C:\\Users\\asarkar.NATICK-NT\\.conda\\envs\\tf-gpu\\lib\\site-packages\\ipykernel_launcher.py:13: UserWarning: D:/Kaggle datasets/Thesis_Diabetic/Diabetic_Retinopathy/Augmented/Train/Level_3/20760_left_Train_Level_3_3912.png is a low contrast image\n",
      "  del sys.path[0]\n",
      "C:\\Users\\asarkar.NATICK-NT\\.conda\\envs\\tf-gpu\\lib\\site-packages\\ipykernel_launcher.py:13: UserWarning: D:/Kaggle datasets/Thesis_Diabetic/Diabetic_Retinopathy/Augmented/Train/Level_3/21846_right_Train_Level_3_3941.png is a low contrast image\n",
      "  del sys.path[0]\n",
      "C:\\Users\\asarkar.NATICK-NT\\.conda\\envs\\tf-gpu\\lib\\site-packages\\ipykernel_launcher.py:13: UserWarning: D:/Kaggle datasets/Thesis_Diabetic/Diabetic_Retinopathy/Augmented/Train/Level_3/29346_right_Train_Level_3_4098.png is a low contrast image\n",
      "  del sys.path[0]\n",
      "C:\\Users\\asarkar.NATICK-NT\\.conda\\envs\\tf-gpu\\lib\\site-packages\\ipykernel_launcher.py:13: UserWarning: D:/Kaggle datasets/Thesis_Diabetic/Diabetic_Retinopathy/Augmented/Train/Level_3/25385_left_Train_Level_3_4753.png is a low contrast image\n",
      "  del sys.path[0]\n"
     ]
    }
   ],
   "source": [
    "oversample_images(iterations=7,level=3,df=df_level3,path = path3, image_size = 1024)"
   ]
  },
  {
   "cell_type": "code",
   "execution_count": 20,
   "metadata": {},
   "outputs": [
    {
     "name": "stderr",
     "output_type": "stream",
     "text": [
      "C:\\Users\\asarkar.NATICK-NT\\.conda\\envs\\tf-gpu\\lib\\site-packages\\ipykernel_launcher.py:13: UserWarning: D:/Kaggle datasets/Thesis_Diabetic/Diabetic_Retinopathy/Augmented/Train/Level_4/24472_right_Train_Level_4_249.png is a low contrast image\n",
      "  del sys.path[0]\n",
      "C:\\Users\\asarkar.NATICK-NT\\.conda\\envs\\tf-gpu\\lib\\site-packages\\ipykernel_launcher.py:13: UserWarning: D:/Kaggle datasets/Thesis_Diabetic/Diabetic_Retinopathy/Augmented/Train/Level_4/12108_left_Train_Level_4_1211.png is a low contrast image\n",
      "  del sys.path[0]\n",
      "C:\\Users\\asarkar.NATICK-NT\\.conda\\envs\\tf-gpu\\lib\\site-packages\\ipykernel_launcher.py:13: UserWarning: D:/Kaggle datasets/Thesis_Diabetic/Diabetic_Retinopathy/Augmented/Train/Level_4/24472_right_Train_Level_4_1425.png is a low contrast image\n",
      "  del sys.path[0]\n",
      "C:\\Users\\asarkar.NATICK-NT\\.conda\\envs\\tf-gpu\\lib\\site-packages\\ipykernel_launcher.py:13: UserWarning: D:/Kaggle datasets/Thesis_Diabetic/Diabetic_Retinopathy/Augmented/Train/Level_4/35766_left_Train_Level_4_1621.png is a low contrast image\n",
      "  del sys.path[0]\n",
      "C:\\Users\\asarkar.NATICK-NT\\.conda\\envs\\tf-gpu\\lib\\site-packages\\ipykernel_launcher.py:13: UserWarning: D:/Kaggle datasets/Thesis_Diabetic/Diabetic_Retinopathy/Augmented/Train/Level_4/35955_left_Train_Level_4_1627.png is a low contrast image\n",
      "  del sys.path[0]\n",
      "C:\\Users\\asarkar.NATICK-NT\\.conda\\envs\\tf-gpu\\lib\\site-packages\\ipykernel_launcher.py:13: UserWarning: D:/Kaggle datasets/Thesis_Diabetic/Diabetic_Retinopathy/Augmented/Train/Level_4/4688_right_Train_Level_4_1689.png is a low contrast image\n",
      "  del sys.path[0]\n",
      "C:\\Users\\asarkar.NATICK-NT\\.conda\\envs\\tf-gpu\\lib\\site-packages\\ipykernel_launcher.py:13: UserWarning: D:/Kaggle datasets/Thesis_Diabetic/Diabetic_Retinopathy/Augmented/Train/Level_4/32230_right_Train_Level_4_2729.png is a low contrast image\n",
      "  del sys.path[0]\n",
      "C:\\Users\\asarkar.NATICK-NT\\.conda\\envs\\tf-gpu\\lib\\site-packages\\ipykernel_launcher.py:13: UserWarning: D:/Kaggle datasets/Thesis_Diabetic/Diabetic_Retinopathy/Augmented/Train/Level_4/13038_right_Train_Level_4_2983.png is a low contrast image\n",
      "  del sys.path[0]\n",
      "C:\\Users\\asarkar.NATICK-NT\\.conda\\envs\\tf-gpu\\lib\\site-packages\\ipykernel_launcher.py:13: UserWarning: D:/Kaggle datasets/Thesis_Diabetic/Diabetic_Retinopathy/Augmented/Train/Level_4/32230_right_Train_Level_4_3905.png is a low contrast image\n",
      "  del sys.path[0]\n"
     ]
    }
   ],
   "source": [
    "oversample_images(iterations=9,level=4,df=df_level4,path = path4, image_size = 1024)"
   ]
  },
  {
   "cell_type": "code",
   "execution_count": null,
   "metadata": {},
   "outputs": [],
   "source": []
  }
 ],
 "metadata": {
  "kernelspec": {
   "display_name": "Python 3",
   "language": "python",
   "name": "python3"
  },
  "language_info": {
   "codemirror_mode": {
    "name": "ipython",
    "version": 3
   },
   "file_extension": ".py",
   "mimetype": "text/x-python",
   "name": "python",
   "nbconvert_exporter": "python",
   "pygments_lexer": "ipython3",
   "version": "3.7.9"
  }
 },
 "nbformat": 4,
 "nbformat_minor": 4
}
