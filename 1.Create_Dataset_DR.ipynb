{
 "cells": [
  {
   "cell_type": "code",
   "execution_count": 1,
   "metadata": {},
   "outputs": [],
   "source": [
    "\n",
    "import cv2 as cv\n",
    "import seaborn as sns\n",
    "import os\n",
    "import time\n",
    "import pandas as pd\n",
    "import SimpleITK as sitk\n",
    "from skimage import io"
   ]
  },
  {
   "cell_type": "code",
   "execution_count": 2,
   "metadata": {},
   "outputs": [
    {
     "name": "stdout",
     "output_type": "stream",
     "text": [
      "Successfully created directory\n"
     ]
    }
   ],
   "source": [
    "if not os.path.exists('D:/Kaggle datasets/Thesis_Diabetic'):\n",
    "    \n",
    "    try:\n",
    "        \n",
    "        os.mkdir('D:/Kaggle datasets/Thesis_Diabetic/')\n",
    "        os.mkdir('D:/Kaggle datasets/Thesis_Diabetic/Diabetic_Retinopathy/')\n",
    "        os.mkdir('D:/Kaggle datasets/Thesis_Diabetic/Diabetic_Retinopathy/Train')\n",
    "        os.mkdir('D:/Kaggle datasets/Thesis_Diabetic/Diabetic_Retinopathy/Train/Level_0')\n",
    "        os.mkdir('D:/Kaggle datasets/Thesis_Diabetic/Diabetic_Retinopathy/Train/Level_1')\n",
    "        os.mkdir('D:/Kaggle datasets/Thesis_Diabetic/Diabetic_Retinopathy/Train/Level_2')\n",
    "        os.mkdir('D:/Kaggle datasets/Thesis_Diabetic/Diabetic_Retinopathy/Train/Level_3')\n",
    "        os.mkdir('D:/Kaggle datasets/Thesis_Diabetic/Diabetic_Retinopathy/Train/Level_4')\n",
    "        os.mkdir('D:/Kaggle datasets/Thesis_Diabetic/Diabetic_Retinopathy/Test')\n",
    "        os.mkdir('D:/Kaggle datasets/Thesis_Diabetic/Diabetic_Retinopathy/Test/Level_0')\n",
    "        os.mkdir('D:/Kaggle datasets/Thesis_Diabetic/Diabetic_Retinopathy/Test/Level_1')\n",
    "        os.mkdir('D:/Kaggle datasets/Thesis_Diabetic/Diabetic_Retinopathy/Test/Level_2')\n",
    "        os.mkdir('D:/Kaggle datasets/Thesis_Diabetic/Diabetic_Retinopathy/Test/Level_3')\n",
    "        os.mkdir('D:/Kaggle datasets/Thesis_Diabetic/Diabetic_Retinopathy/Test/Level_4')\n",
    "        os.mkdir('D:/Kaggle datasets/Thesis_Diabetic/Diabetic_Retinopathy/Val')\n",
    "        os.mkdir('D:/Kaggle datasets/Thesis_Diabetic/Diabetic_Retinopathy/Val/Level_0')\n",
    "        os.mkdir('D:/Kaggle datasets/Thesis_Diabetic/Diabetic_Retinopathy/Val/Level_1')\n",
    "        os.mkdir('D:/Kaggle datasets/Thesis_Diabetic/Diabetic_Retinopathy/Val/Level_2')\n",
    "        os.mkdir('D:/Kaggle datasets/Thesis_Diabetic/Diabetic_Retinopathy/Val/Level_3')\n",
    "        os.mkdir('D:/Kaggle datasets/Thesis_Diabetic/Diabetic_Retinopathy/Val/Level_4')\n",
    "        \n",
    "    except OSError:\n",
    "        \n",
    "        print('Creation of directory failed')\n",
    "        \n",
    "    else:\n",
    "        \n",
    "        print('Successfully created directory')\n",
    "        \n",
    "else:\n",
    "    \n",
    "    print('Directory already exists')"
   ]
  },
  {
   "cell_type": "code",
   "execution_count": 3,
   "metadata": {},
   "outputs": [
    {
     "data": {
      "text/html": [
       "<div>\n",
       "<style scoped>\n",
       "    .dataframe tbody tr th:only-of-type {\n",
       "        vertical-align: middle;\n",
       "    }\n",
       "\n",
       "    .dataframe tbody tr th {\n",
       "        vertical-align: top;\n",
       "    }\n",
       "\n",
       "    .dataframe thead th {\n",
       "        text-align: right;\n",
       "    }\n",
       "</style>\n",
       "<table border=\"1\" class=\"dataframe\">\n",
       "  <thead>\n",
       "    <tr style=\"text-align: right;\">\n",
       "      <th></th>\n",
       "      <th>image</th>\n",
       "      <th>level</th>\n",
       "    </tr>\n",
       "  </thead>\n",
       "  <tbody>\n",
       "    <tr>\n",
       "      <th>0</th>\n",
       "      <td>10_left</td>\n",
       "      <td>0</td>\n",
       "    </tr>\n",
       "    <tr>\n",
       "      <th>1</th>\n",
       "      <td>10_right</td>\n",
       "      <td>0</td>\n",
       "    </tr>\n",
       "    <tr>\n",
       "      <th>2</th>\n",
       "      <td>13_left</td>\n",
       "      <td>0</td>\n",
       "    </tr>\n",
       "    <tr>\n",
       "      <th>3</th>\n",
       "      <td>13_right</td>\n",
       "      <td>0</td>\n",
       "    </tr>\n",
       "    <tr>\n",
       "      <th>4</th>\n",
       "      <td>15_left</td>\n",
       "      <td>1</td>\n",
       "    </tr>\n",
       "  </tbody>\n",
       "</table>\n",
       "</div>"
      ],
      "text/plain": [
       "      image  level\n",
       "0   10_left      0\n",
       "1  10_right      0\n",
       "2   13_left      0\n",
       "3  13_right      0\n",
       "4   15_left      1"
      ]
     },
     "execution_count": 3,
     "metadata": {},
     "output_type": "execute_result"
    }
   ],
   "source": [
    "df_train = pd.read_csv('D:/Kaggle datasets/diabetic-retinopathy-detection/trainLabels.csv')\n",
    "\n",
    "df_train.head()"
   ]
  },
  {
   "cell_type": "code",
   "execution_count": 4,
   "metadata": {},
   "outputs": [
    {
     "data": {
      "text/html": [
       "<div>\n",
       "<style scoped>\n",
       "    .dataframe tbody tr th:only-of-type {\n",
       "        vertical-align: middle;\n",
       "    }\n",
       "\n",
       "    .dataframe tbody tr th {\n",
       "        vertical-align: top;\n",
       "    }\n",
       "\n",
       "    .dataframe thead th {\n",
       "        text-align: right;\n",
       "    }\n",
       "</style>\n",
       "<table border=\"1\" class=\"dataframe\">\n",
       "  <thead>\n",
       "    <tr style=\"text-align: right;\">\n",
       "      <th></th>\n",
       "      <th>image</th>\n",
       "      <th>level</th>\n",
       "      <th>Usage</th>\n",
       "    </tr>\n",
       "  </thead>\n",
       "  <tbody>\n",
       "    <tr>\n",
       "      <th>0</th>\n",
       "      <td>1_left</td>\n",
       "      <td>0</td>\n",
       "      <td>Private</td>\n",
       "    </tr>\n",
       "    <tr>\n",
       "      <th>1</th>\n",
       "      <td>1_right</td>\n",
       "      <td>0</td>\n",
       "      <td>Private</td>\n",
       "    </tr>\n",
       "    <tr>\n",
       "      <th>2</th>\n",
       "      <td>2_left</td>\n",
       "      <td>0</td>\n",
       "      <td>Public</td>\n",
       "    </tr>\n",
       "    <tr>\n",
       "      <th>3</th>\n",
       "      <td>2_right</td>\n",
       "      <td>0</td>\n",
       "      <td>Public</td>\n",
       "    </tr>\n",
       "    <tr>\n",
       "      <th>4</th>\n",
       "      <td>3_left</td>\n",
       "      <td>2</td>\n",
       "      <td>Private</td>\n",
       "    </tr>\n",
       "  </tbody>\n",
       "</table>\n",
       "</div>"
      ],
      "text/plain": [
       "     image  level    Usage\n",
       "0   1_left      0  Private\n",
       "1  1_right      0  Private\n",
       "2   2_left      0   Public\n",
       "3  2_right      0   Public\n",
       "4   3_left      2  Private"
      ]
     },
     "execution_count": 4,
     "metadata": {},
     "output_type": "execute_result"
    }
   ],
   "source": [
    "\n",
    "df_test = pd.read_csv('D:/Kaggle datasets/diabetic-retinopathy-detection/retinopathy_solution.csv')\n",
    "\n",
    "df_test.head()"
   ]
  },
  {
   "cell_type": "code",
   "execution_count": 5,
   "metadata": {},
   "outputs": [
    {
     "name": "stdout",
     "output_type": "stream",
     "text": [
      "Toal number of images in the training set image    35126\n",
      "level    35126\n",
      "dtype: int64\n"
     ]
    },
    {
     "data": {
      "text/plain": [
       "0    25810\n",
       "2     5292\n",
       "1     2443\n",
       "3      873\n",
       "4      708\n",
       "Name: level, dtype: int64"
      ]
     },
     "execution_count": 5,
     "metadata": {},
     "output_type": "execute_result"
    }
   ],
   "source": [
    "#check total number of images\n",
    "\n",
    "df_images = df_train.count()\n",
    "\n",
    "print (f'Toal number of images in the training set {df_images}')\n",
    "\n",
    "# number of images belonging to each level\n",
    "\n",
    "unique_count = df_train['level'].value_counts()\n",
    "\n",
    "unique_count"
   ]
  },
  {
   "cell_type": "code",
   "execution_count": 6,
   "metadata": {},
   "outputs": [
    {
     "data": {
      "text/plain": [
       "<AxesSubplot:xlabel='level', ylabel='count'>"
      ]
     },
     "execution_count": 6,
     "metadata": {},
     "output_type": "execute_result"
    },
    {
     "data": {
      "image/png": "[encoded data removed]",
      "text/plain": [
       "<Figure size 432x288 with 1 Axes>"
      ]
     },
     "metadata": {
      "needs_background": "light"
     },
     "output_type": "display_data"
    }
   ],
   "source": [
    "#check number of images in each class\n",
    "\n",
    "sns.countplot(x = 'level', data = df_train)"
   ]
  },
  {
   "cell_type": "code",
   "execution_count": 8,
   "metadata": {},
   "outputs": [
    {
     "data": {
      "text/html": [
       "<div>\n",
       "<style scoped>\n",
       "    .dataframe tbody tr th:only-of-type {\n",
       "        vertical-align: middle;\n",
       "    }\n",
       "\n",
       "    .dataframe tbody tr th {\n",
       "        vertical-align: top;\n",
       "    }\n",
       "\n",
       "    .dataframe thead th {\n",
       "        text-align: right;\n",
       "    }\n",
       "</style>\n",
       "<table border=\"1\" class=\"dataframe\">\n",
       "  <thead>\n",
       "    <tr style=\"text-align: right;\">\n",
       "      <th></th>\n",
       "      <th>image</th>\n",
       "      <th>level</th>\n",
       "    </tr>\n",
       "  </thead>\n",
       "  <tbody>\n",
       "    <tr>\n",
       "      <th>0</th>\n",
       "      <td>10_left</td>\n",
       "      <td>0</td>\n",
       "    </tr>\n",
       "    <tr>\n",
       "      <th>1</th>\n",
       "      <td>10_right</td>\n",
       "      <td>0</td>\n",
       "    </tr>\n",
       "    <tr>\n",
       "      <th>2</th>\n",
       "      <td>13_left</td>\n",
       "      <td>0</td>\n",
       "    </tr>\n",
       "    <tr>\n",
       "      <th>3</th>\n",
       "      <td>13_right</td>\n",
       "      <td>0</td>\n",
       "    </tr>\n",
       "    <tr>\n",
       "      <th>4</th>\n",
       "      <td>15_left</td>\n",
       "      <td>1</td>\n",
       "    </tr>\n",
       "  </tbody>\n",
       "</table>\n",
       "</div>"
      ],
      "text/plain": [
       "      image  level\n",
       "0   10_left      0\n",
       "1  10_right      0\n",
       "2   13_left      0\n",
       "3  13_right      0\n",
       "4   15_left      1"
      ]
     },
     "execution_count": 8,
     "metadata": {},
     "output_type": "execute_result"
    }
   ],
   "source": [
    "df_train_new = df_train.iloc[:30000,:]\n",
    "df_train_new.head()"
   ]
  },
  {
   "cell_type": "code",
   "execution_count": 9,
   "metadata": {},
   "outputs": [
    {
     "name": "stdout",
     "output_type": "stream",
     "text": [
      "Toal number of images in the new training set image    30000\n",
      "level    30000\n",
      "dtype: int64\n"
     ]
    },
    {
     "data": {
      "text/plain": [
       "0    21978\n",
       "2     4568\n",
       "1     2078\n",
       "3      770\n",
       "4      606\n",
       "Name: level, dtype: int64"
      ]
     },
     "execution_count": 9,
     "metadata": {},
     "output_type": "execute_result"
    }
   ],
   "source": [
    "df_images = df_train_new.count()\n",
    "\n",
    "print (f'Toal number of images in the new training set {df_images}')\n",
    "\n",
    "# number of images belonging to each level\n",
    "\n",
    "unique_count = df_train_new['level'].value_counts()\n",
    "\n",
    "unique_count"
   ]
  },
  {
   "cell_type": "code",
   "execution_count": 10,
   "metadata": {},
   "outputs": [
    {
     "data": {
      "text/html": [
       "<div>\n",
       "<style scoped>\n",
       "    .dataframe tbody tr th:only-of-type {\n",
       "        vertical-align: middle;\n",
       "    }\n",
       "\n",
       "    .dataframe tbody tr th {\n",
       "        vertical-align: top;\n",
       "    }\n",
       "\n",
       "    .dataframe thead th {\n",
       "        text-align: right;\n",
       "    }\n",
       "</style>\n",
       "<table border=\"1\" class=\"dataframe\">\n",
       "  <thead>\n",
       "    <tr style=\"text-align: right;\">\n",
       "      <th></th>\n",
       "      <th>image</th>\n",
       "      <th>level</th>\n",
       "    </tr>\n",
       "  </thead>\n",
       "  <tbody>\n",
       "    <tr>\n",
       "      <th>30001</th>\n",
       "      <td>37951_right</td>\n",
       "      <td>4</td>\n",
       "    </tr>\n",
       "    <tr>\n",
       "      <th>30002</th>\n",
       "      <td>37953_left</td>\n",
       "      <td>1</td>\n",
       "    </tr>\n",
       "    <tr>\n",
       "      <th>30003</th>\n",
       "      <td>37953_right</td>\n",
       "      <td>0</td>\n",
       "    </tr>\n",
       "    <tr>\n",
       "      <th>30004</th>\n",
       "      <td>37954_left</td>\n",
       "      <td>0</td>\n",
       "    </tr>\n",
       "    <tr>\n",
       "      <th>30005</th>\n",
       "      <td>37954_right</td>\n",
       "      <td>0</td>\n",
       "    </tr>\n",
       "  </tbody>\n",
       "</table>\n",
       "</div>"
      ],
      "text/plain": [
       "             image  level\n",
       "30001  37951_right      4\n",
       "30002   37953_left      1\n",
       "30003  37953_right      0\n",
       "30004   37954_left      0\n",
       "30005  37954_right      0"
      ]
     },
     "execution_count": 10,
     "metadata": {},
     "output_type": "execute_result"
    }
   ],
   "source": [
    "df_val = df_train.iloc[30001:,:]\n",
    "df_val.head()"
   ]
  },
  {
   "cell_type": "code",
   "execution_count": 11,
   "metadata": {},
   "outputs": [
    {
     "name": "stdout",
     "output_type": "stream",
     "text": [
      "Toal number of images in the new training set image    5125\n",
      "level    5125\n",
      "dtype: int64\n"
     ]
    },
    {
     "data": {
      "text/plain": [
       "0    3832\n",
       "2     724\n",
       "1     365\n",
       "3     103\n",
       "4     101\n",
       "Name: level, dtype: int64"
      ]
     },
     "execution_count": 11,
     "metadata": {},
     "output_type": "execute_result"
    }
   ],
   "source": [
    "df_images = df_val.count()\n",
    "\n",
    "print (f'Toal number of images in the new training set {df_images}')\n",
    "\n",
    "# number of images belonging to each level\n",
    "\n",
    "unique_count = df_val['level'].value_counts()\n",
    "\n",
    "unique_count"
   ]
  },
  {
   "cell_type": "code",
   "execution_count": 12,
   "metadata": {},
   "outputs": [
    {
     "data": {
      "text/plain": [
       "<AxesSubplot:xlabel='level', ylabel='count'>"
      ]
     },
     "execution_count": 12,
     "metadata": {},
     "output_type": "execute_result"
    },
    {
     "data": {
      "image/png": "[encoded data removed]",
      "text/plain": [
       "<Figure size 432x288 with 1 Axes>"
      ]
     },
     "metadata": {
      "needs_background": "light"
     },
     "output_type": "display_data"
    }
   ],
   "source": [
    "#train set\n",
    "\n",
    "sns.countplot(x = 'level', data = df_train_new)"
   ]
  },
  {
   "cell_type": "code",
   "execution_count": 13,
   "metadata": {},
   "outputs": [
    {
     "data": {
      "text/plain": [
       "<AxesSubplot:xlabel='level', ylabel='count'>"
      ]
     },
     "execution_count": 13,
     "metadata": {},
     "output_type": "execute_result"
    },
    {
     "data": {
      "image/png": "[encoded data removed]",
      "text/plain": [
       "<Figure size 432x288 with 1 Axes>"
      ]
     },
     "metadata": {
      "needs_background": "light"
     },
     "output_type": "display_data"
    }
   ],
   "source": [
    "sns.countplot(x = 'level', data = df_val)"
   ]
  },
  {
   "cell_type": "code",
   "execution_count": 14,
   "metadata": {},
   "outputs": [
    {
     "data": {
      "text/plain": [
       "<AxesSubplot:xlabel='level', ylabel='count'>"
      ]
     },
     "execution_count": 14,
     "metadata": {},
     "output_type": "execute_result"
    },
    {
     "data": {
      "image/png": "[encoded data removed]",
      "text/plain": [
       "<Figure size 432x288 with 1 Axes>"
      ]
     },
     "metadata": {
      "needs_background": "light"
     },
     "output_type": "display_data"
    }
   ],
   "source": [
    "sns.countplot(x = 'level', data = df_test)"
   ]
  },
  {
   "cell_type": "code",
   "execution_count": 17,
   "metadata": {},
   "outputs": [],
   "source": [
    "def create_dataset(df,path,image_size,dataset):\n",
    "    \n",
    "    for i, item in df.iterrows():\n",
    "        \n",
    "        img = sitk.ReadImage(path + item[0] +'.jpg')\n",
    "        img = sitk.GetArrayFromImage(img)\n",
    "        img = cv.resize(img,(image_size,image_size))\n",
    "        \n",
    "        if item[1]==0:\n",
    "            io.imsave(f'D:/Kaggle datasets/Thesis_Diabetic/Diabetic_Retinopathy/{dataset}/Level_0/'+item[0]+f'_{dataset}_Level_0.png',img)\n",
    "        elif item[1]==1:\n",
    "            io.imsave(f'D:/Kaggle datasets/Thesis_Diabetic/Diabetic_Retinopathy/{dataset}/Level_1/'+item[0]+f'_{dataset}_Level_1.png',img)\n",
    "        elif item[1]==2:\n",
    "            io.imsave(f'D:/Kaggle datasets/Thesis_Diabetic/Diabetic_Retinopathy/{dataset}/Level_2/'+item[0]+f'_{dataset}_Level_2.png',img)\n",
    "        elif item[1]==3:\n",
    "            io.imsave(f'D:/Kaggle datasets/Thesis_Diabetic/Diabetic_Retinopathy/{dataset}/Level_3/'+item[0]+f'_{dataset}_Level_3.png',img)\n",
    "        else:\n",
    "            io.imsave(f'D:/Kaggle datasets/Thesis_Diabetic/Diabetic_Retinopathy/{dataset}/Level_4/'+item[0]+f'_{dataset}_Level_4.png',img)"
   ]
  },
  {
   "cell_type": "code",
   "execution_count": 18,
   "metadata": {},
   "outputs": [
    {
     "name": "stderr",
     "output_type": "stream",
     "text": [
      "C:\\Users\\asarkar.NATICK-NT\\.conda\\envs\\tf-gpu\\lib\\site-packages\\ipykernel_launcher.py:10: UserWarning: D:/Kaggle datasets/Thesis_Diabetic/Diabetic_Retinopathy/Train/Level_0/1557_left_Train_Level_0.png is a low contrast image\n",
      "  # Remove the CWD from sys.path while we load stuff.\n",
      "C:\\Users\\asarkar.NATICK-NT\\.conda\\envs\\tf-gpu\\lib\\site-packages\\ipykernel_launcher.py:10: UserWarning: D:/Kaggle datasets/Thesis_Diabetic/Diabetic_Retinopathy/Train/Level_0/1986_left_Train_Level_0.png is a low contrast image\n",
      "  # Remove the CWD from sys.path while we load stuff.\n",
      "C:\\Users\\asarkar.NATICK-NT\\.conda\\envs\\tf-gpu\\lib\\site-packages\\ipykernel_launcher.py:10: UserWarning: D:/Kaggle datasets/Thesis_Diabetic/Diabetic_Retinopathy/Train/Level_0/2516_left_Train_Level_0.png is a low contrast image\n",
      "  # Remove the CWD from sys.path while we load stuff.\n",
      "C:\\Users\\asarkar.NATICK-NT\\.conda\\envs\\tf-gpu\\lib\\site-packages\\ipykernel_launcher.py:10: UserWarning: D:/Kaggle datasets/Thesis_Diabetic/Diabetic_Retinopathy/Train/Level_0/2857_right_Train_Level_0.png is a low contrast image\n",
      "  # Remove the CWD from sys.path while we load stuff.\n",
      "C:\\Users\\asarkar.NATICK-NT\\.conda\\envs\\tf-gpu\\lib\\site-packages\\ipykernel_launcher.py:14: UserWarning: D:/Kaggle datasets/Thesis_Diabetic/Diabetic_Retinopathy/Train/Level_2/3829_left_Train_Level_2.png is a low contrast image\n",
      "  \n",
      "C:\\Users\\asarkar.NATICK-NT\\.conda\\envs\\tf-gpu\\lib\\site-packages\\ipykernel_launcher.py:10: UserWarning: D:/Kaggle datasets/Thesis_Diabetic/Diabetic_Retinopathy/Train/Level_0/10464_left_Train_Level_0.png is a low contrast image\n",
      "  # Remove the CWD from sys.path while we load stuff.\n",
      "C:\\Users\\asarkar.NATICK-NT\\.conda\\envs\\tf-gpu\\lib\\site-packages\\ipykernel_launcher.py:10: UserWarning: D:/Kaggle datasets/Thesis_Diabetic/Diabetic_Retinopathy/Train/Level_0/10996_left_Train_Level_0.png is a low contrast image\n",
      "  # Remove the CWD from sys.path while we load stuff.\n",
      "C:\\Users\\asarkar.NATICK-NT\\.conda\\envs\\tf-gpu\\lib\\site-packages\\ipykernel_launcher.py:14: UserWarning: D:/Kaggle datasets/Thesis_Diabetic/Diabetic_Retinopathy/Train/Level_2/11648_left_Train_Level_2.png is a low contrast image\n",
      "  \n",
      "C:\\Users\\asarkar.NATICK-NT\\.conda\\envs\\tf-gpu\\lib\\site-packages\\ipykernel_launcher.py:14: UserWarning: D:/Kaggle datasets/Thesis_Diabetic/Diabetic_Retinopathy/Train/Level_2/14915_right_Train_Level_2.png is a low contrast image\n",
      "  \n",
      "C:\\Users\\asarkar.NATICK-NT\\.conda\\envs\\tf-gpu\\lib\\site-packages\\ipykernel_launcher.py:14: UserWarning: D:/Kaggle datasets/Thesis_Diabetic/Diabetic_Retinopathy/Train/Level_2/15222_left_Train_Level_2.png is a low contrast image\n",
      "  \n",
      "C:\\Users\\asarkar.NATICK-NT\\.conda\\envs\\tf-gpu\\lib\\site-packages\\ipykernel_launcher.py:14: UserWarning: D:/Kaggle datasets/Thesis_Diabetic/Diabetic_Retinopathy/Train/Level_2/20824_right_Train_Level_2.png is a low contrast image\n",
      "  \n",
      "C:\\Users\\asarkar.NATICK-NT\\.conda\\envs\\tf-gpu\\lib\\site-packages\\ipykernel_launcher.py:10: UserWarning: D:/Kaggle datasets/Thesis_Diabetic/Diabetic_Retinopathy/Train/Level_0/21118_left_Train_Level_0.png is a low contrast image\n",
      "  # Remove the CWD from sys.path while we load stuff.\n",
      "C:\\Users\\asarkar.NATICK-NT\\.conda\\envs\\tf-gpu\\lib\\site-packages\\ipykernel_launcher.py:16: UserWarning: D:/Kaggle datasets/Thesis_Diabetic/Diabetic_Retinopathy/Train/Level_3/25385_left_Train_Level_3.png is a low contrast image\n",
      "  app.launch_new_instance()\n",
      "C:\\Users\\asarkar.NATICK-NT\\.conda\\envs\\tf-gpu\\lib\\site-packages\\ipykernel_launcher.py:10: UserWarning: D:/Kaggle datasets/Thesis_Diabetic/Diabetic_Retinopathy/Train/Level_0/26064_left_Train_Level_0.png is a low contrast image\n",
      "  # Remove the CWD from sys.path while we load stuff.\n",
      "C:\\Users\\asarkar.NATICK-NT\\.conda\\envs\\tf-gpu\\lib\\site-packages\\ipykernel_launcher.py:10: UserWarning: D:/Kaggle datasets/Thesis_Diabetic/Diabetic_Retinopathy/Train/Level_0/26064_right_Train_Level_0.png is a low contrast image\n",
      "  # Remove the CWD from sys.path while we load stuff.\n",
      "C:\\Users\\asarkar.NATICK-NT\\.conda\\envs\\tf-gpu\\lib\\site-packages\\ipykernel_launcher.py:10: UserWarning: D:/Kaggle datasets/Thesis_Diabetic/Diabetic_Retinopathy/Train/Level_0/27481_right_Train_Level_0.png is a low contrast image\n",
      "  # Remove the CWD from sys.path while we load stuff.\n",
      "C:\\Users\\asarkar.NATICK-NT\\.conda\\envs\\tf-gpu\\lib\\site-packages\\ipykernel_launcher.py:12: UserWarning: D:/Kaggle datasets/Thesis_Diabetic/Diabetic_Retinopathy/Train/Level_1/32253_right_Train_Level_1.png is a low contrast image\n",
      "  if sys.path[0] == '':\n",
      "C:\\Users\\asarkar.NATICK-NT\\.conda\\envs\\tf-gpu\\lib\\site-packages\\ipykernel_launcher.py:10: UserWarning: D:/Kaggle datasets/Thesis_Diabetic/Diabetic_Retinopathy/Train/Level_0/34689_left_Train_Level_0.png is a low contrast image\n",
      "  # Remove the CWD from sys.path while we load stuff.\n",
      "C:\\Users\\asarkar.NATICK-NT\\.conda\\envs\\tf-gpu\\lib\\site-packages\\ipykernel_launcher.py:10: UserWarning: D:/Kaggle datasets/Thesis_Diabetic/Diabetic_Retinopathy/Train/Level_0/37790_right_Train_Level_0.png is a low contrast image\n",
      "  # Remove the CWD from sys.path while we load stuff.\n"
     ]
    },
    {
     "name": "stdout",
     "output_type": "stream",
     "text": [
      "Training set created\n"
     ]
    }
   ],
   "source": [
    "path_train = 'D:/Kaggle datasets/Thesis/archive/resized train 15/'\n",
    "\n",
    "create_dataset(df_train_new,path_train,image_size=1024,dataset='Train')\n",
    "\n",
    "print('Training set created')"
   ]
  },
  {
   "cell_type": "code",
   "execution_count": 19,
   "metadata": {},
   "outputs": [
    {
     "name": "stderr",
     "output_type": "stream",
     "text": [
      "C:\\Users\\asarkar.NATICK-NT\\.conda\\envs\\tf-gpu\\lib\\site-packages\\ipykernel_launcher.py:10: UserWarning: D:/Kaggle datasets/Thesis_Diabetic/Diabetic_Retinopathy/Val/Level_0/41176_left_Val_Level_0.png is a low contrast image\n",
      "  # Remove the CWD from sys.path while we load stuff.\n",
      "C:\\Users\\asarkar.NATICK-NT\\.conda\\envs\\tf-gpu\\lib\\site-packages\\ipykernel_launcher.py:10: UserWarning: D:/Kaggle datasets/Thesis_Diabetic/Diabetic_Retinopathy/Val/Level_0/43452_left_Val_Level_0.png is a low contrast image\n",
      "  # Remove the CWD from sys.path while we load stuff.\n",
      "C:\\Users\\asarkar.NATICK-NT\\.conda\\envs\\tf-gpu\\lib\\site-packages\\ipykernel_launcher.py:12: UserWarning: D:/Kaggle datasets/Thesis_Diabetic/Diabetic_Retinopathy/Val/Level_1/43457_left_Val_Level_1.png is a low contrast image\n",
      "  if sys.path[0] == '':\n",
      "C:\\Users\\asarkar.NATICK-NT\\.conda\\envs\\tf-gpu\\lib\\site-packages\\ipykernel_launcher.py:14: UserWarning: D:/Kaggle datasets/Thesis_Diabetic/Diabetic_Retinopathy/Val/Level_2/43921_left_Val_Level_2.png is a low contrast image\n",
      "  \n"
     ]
    },
    {
     "name": "stdout",
     "output_type": "stream",
     "text": [
      "Validation set created\n"
     ]
    }
   ],
   "source": [
    "path_val = 'D:/Kaggle datasets/Thesis/archive/resized train 15/'\n",
    "\n",
    "create_dataset(df_val,path_train,image_size=1024,dataset='Val')\n",
    "\n",
    "print('Validation set created')"
   ]
  },
  {
   "cell_type": "code",
   "execution_count": 20,
   "metadata": {},
   "outputs": [
    {
     "name": "stderr",
     "output_type": "stream",
     "text": [
      "C:\\Users\\asarkar.NATICK-NT\\.conda\\envs\\tf-gpu\\lib\\site-packages\\ipykernel_launcher.py:10: UserWarning: D:/Kaggle datasets/Thesis_Diabetic/Diabetic_Retinopathy/Test/Level_0/3517_left_Test_Level_0.png is a low contrast image\n",
      "  # Remove the CWD from sys.path while we load stuff.\n",
      "C:\\Users\\asarkar.NATICK-NT\\.conda\\envs\\tf-gpu\\lib\\site-packages\\ipykernel_launcher.py:10: UserWarning: D:/Kaggle datasets/Thesis_Diabetic/Diabetic_Retinopathy/Test/Level_0/4751_right_Test_Level_0.png is a low contrast image\n",
      "  # Remove the CWD from sys.path while we load stuff.\n",
      "C:\\Users\\asarkar.NATICK-NT\\.conda\\envs\\tf-gpu\\lib\\site-packages\\ipykernel_launcher.py:10: UserWarning: D:/Kaggle datasets/Thesis_Diabetic/Diabetic_Retinopathy/Test/Level_0/5231_left_Test_Level_0.png is a low contrast image\n",
      "  # Remove the CWD from sys.path while we load stuff.\n",
      "C:\\Users\\asarkar.NATICK-NT\\.conda\\envs\\tf-gpu\\lib\\site-packages\\ipykernel_launcher.py:10: UserWarning: D:/Kaggle datasets/Thesis_Diabetic/Diabetic_Retinopathy/Test/Level_0/8528_left_Test_Level_0.png is a low contrast image\n",
      "  # Remove the CWD from sys.path while we load stuff.\n",
      "C:\\Users\\asarkar.NATICK-NT\\.conda\\envs\\tf-gpu\\lib\\site-packages\\ipykernel_launcher.py:10: UserWarning: D:/Kaggle datasets/Thesis_Diabetic/Diabetic_Retinopathy/Test/Level_0/9666_left_Test_Level_0.png is a low contrast image\n",
      "  # Remove the CWD from sys.path while we load stuff.\n",
      "C:\\Users\\asarkar.NATICK-NT\\.conda\\envs\\tf-gpu\\lib\\site-packages\\ipykernel_launcher.py:10: UserWarning: D:/Kaggle datasets/Thesis_Diabetic/Diabetic_Retinopathy/Test/Level_0/9666_right_Test_Level_0.png is a low contrast image\n",
      "  # Remove the CWD from sys.path while we load stuff.\n",
      "C:\\Users\\asarkar.NATICK-NT\\.conda\\envs\\tf-gpu\\lib\\site-packages\\ipykernel_launcher.py:16: UserWarning: D:/Kaggle datasets/Thesis_Diabetic/Diabetic_Retinopathy/Test/Level_3/9862_left_Test_Level_3.png is a low contrast image\n",
      "  app.launch_new_instance()\n",
      "C:\\Users\\asarkar.NATICK-NT\\.conda\\envs\\tf-gpu\\lib\\site-packages\\ipykernel_launcher.py:16: UserWarning: D:/Kaggle datasets/Thesis_Diabetic/Diabetic_Retinopathy/Test/Level_3/9862_right_Test_Level_3.png is a low contrast image\n",
      "  app.launch_new_instance()\n",
      "C:\\Users\\asarkar.NATICK-NT\\.conda\\envs\\tf-gpu\\lib\\site-packages\\ipykernel_launcher.py:10: UserWarning: D:/Kaggle datasets/Thesis_Diabetic/Diabetic_Retinopathy/Test/Level_0/9920_left_Test_Level_0.png is a low contrast image\n",
      "  # Remove the CWD from sys.path while we load stuff.\n",
      "C:\\Users\\asarkar.NATICK-NT\\.conda\\envs\\tf-gpu\\lib\\site-packages\\ipykernel_launcher.py:16: UserWarning: D:/Kaggle datasets/Thesis_Diabetic/Diabetic_Retinopathy/Test/Level_3/9936_right_Test_Level_3.png is a low contrast image\n",
      "  app.launch_new_instance()\n",
      "C:\\Users\\asarkar.NATICK-NT\\.conda\\envs\\tf-gpu\\lib\\site-packages\\ipykernel_launcher.py:12: UserWarning: D:/Kaggle datasets/Thesis_Diabetic/Diabetic_Retinopathy/Test/Level_1/11538_right_Test_Level_1.png is a low contrast image\n",
      "  if sys.path[0] == '':\n",
      "C:\\Users\\asarkar.NATICK-NT\\.conda\\envs\\tf-gpu\\lib\\site-packages\\ipykernel_launcher.py:14: UserWarning: D:/Kaggle datasets/Thesis_Diabetic/Diabetic_Retinopathy/Test/Level_2/12180_left_Test_Level_2.png is a low contrast image\n",
      "  \n",
      "C:\\Users\\asarkar.NATICK-NT\\.conda\\envs\\tf-gpu\\lib\\site-packages\\ipykernel_launcher.py:10: UserWarning: D:/Kaggle datasets/Thesis_Diabetic/Diabetic_Retinopathy/Test/Level_0/15078_left_Test_Level_0.png is a low contrast image\n",
      "  # Remove the CWD from sys.path while we load stuff.\n",
      "C:\\Users\\asarkar.NATICK-NT\\.conda\\envs\\tf-gpu\\lib\\site-packages\\ipykernel_launcher.py:14: UserWarning: D:/Kaggle datasets/Thesis_Diabetic/Diabetic_Retinopathy/Test/Level_2/16349_left_Test_Level_2.png is a low contrast image\n",
      "  \n",
      "C:\\Users\\asarkar.NATICK-NT\\.conda\\envs\\tf-gpu\\lib\\site-packages\\ipykernel_launcher.py:10: UserWarning: D:/Kaggle datasets/Thesis_Diabetic/Diabetic_Retinopathy/Test/Level_0/16519_left_Test_Level_0.png is a low contrast image\n",
      "  # Remove the CWD from sys.path while we load stuff.\n",
      "C:\\Users\\asarkar.NATICK-NT\\.conda\\envs\\tf-gpu\\lib\\site-packages\\ipykernel_launcher.py:10: UserWarning: D:/Kaggle datasets/Thesis_Diabetic/Diabetic_Retinopathy/Test/Level_0/17078_left_Test_Level_0.png is a low contrast image\n",
      "  # Remove the CWD from sys.path while we load stuff.\n",
      "C:\\Users\\asarkar.NATICK-NT\\.conda\\envs\\tf-gpu\\lib\\site-packages\\ipykernel_launcher.py:18: UserWarning: D:/Kaggle datasets/Thesis_Diabetic/Diabetic_Retinopathy/Test/Level_4/17157_left_Test_Level_4.png is a low contrast image\n",
      "C:\\Users\\asarkar.NATICK-NT\\.conda\\envs\\tf-gpu\\lib\\site-packages\\ipykernel_launcher.py:14: UserWarning: D:/Kaggle datasets/Thesis_Diabetic/Diabetic_Retinopathy/Test/Level_2/19150_right_Test_Level_2.png is a low contrast image\n",
      "  \n",
      "C:\\Users\\asarkar.NATICK-NT\\.conda\\envs\\tf-gpu\\lib\\site-packages\\ipykernel_launcher.py:10: UserWarning: D:/Kaggle datasets/Thesis_Diabetic/Diabetic_Retinopathy/Test/Level_0/19844_left_Test_Level_0.png is a low contrast image\n",
      "  # Remove the CWD from sys.path while we load stuff.\n",
      "C:\\Users\\asarkar.NATICK-NT\\.conda\\envs\\tf-gpu\\lib\\site-packages\\ipykernel_launcher.py:10: UserWarning: D:/Kaggle datasets/Thesis_Diabetic/Diabetic_Retinopathy/Test/Level_0/20222_left_Test_Level_0.png is a low contrast image\n",
      "  # Remove the CWD from sys.path while we load stuff.\n",
      "C:\\Users\\asarkar.NATICK-NT\\.conda\\envs\\tf-gpu\\lib\\site-packages\\ipykernel_launcher.py:10: UserWarning: D:/Kaggle datasets/Thesis_Diabetic/Diabetic_Retinopathy/Test/Level_0/20347_left_Test_Level_0.png is a low contrast image\n",
      "  # Remove the CWD from sys.path while we load stuff.\n",
      "C:\\Users\\asarkar.NATICK-NT\\.conda\\envs\\tf-gpu\\lib\\site-packages\\ipykernel_launcher.py:10: UserWarning: D:/Kaggle datasets/Thesis_Diabetic/Diabetic_Retinopathy/Test/Level_0/20347_right_Test_Level_0.png is a low contrast image\n",
      "  # Remove the CWD from sys.path while we load stuff.\n",
      "C:\\Users\\asarkar.NATICK-NT\\.conda\\envs\\tf-gpu\\lib\\site-packages\\ipykernel_launcher.py:10: UserWarning: D:/Kaggle datasets/Thesis_Diabetic/Diabetic_Retinopathy/Test/Level_0/20585_right_Test_Level_0.png is a low contrast image\n",
      "  # Remove the CWD from sys.path while we load stuff.\n",
      "C:\\Users\\asarkar.NATICK-NT\\.conda\\envs\\tf-gpu\\lib\\site-packages\\ipykernel_launcher.py:10: UserWarning: D:/Kaggle datasets/Thesis_Diabetic/Diabetic_Retinopathy/Test/Level_0/22513_right_Test_Level_0.png is a low contrast image\n",
      "  # Remove the CWD from sys.path while we load stuff.\n",
      "C:\\Users\\asarkar.NATICK-NT\\.conda\\envs\\tf-gpu\\lib\\site-packages\\ipykernel_launcher.py:14: UserWarning: D:/Kaggle datasets/Thesis_Diabetic/Diabetic_Retinopathy/Test/Level_2/22533_right_Test_Level_2.png is a low contrast image\n",
      "  \n",
      "C:\\Users\\asarkar.NATICK-NT\\.conda\\envs\\tf-gpu\\lib\\site-packages\\ipykernel_launcher.py:10: UserWarning: D:/Kaggle datasets/Thesis_Diabetic/Diabetic_Retinopathy/Test/Level_0/26634_left_Test_Level_0.png is a low contrast image\n",
      "  # Remove the CWD from sys.path while we load stuff.\n",
      "C:\\Users\\asarkar.NATICK-NT\\.conda\\envs\\tf-gpu\\lib\\site-packages\\ipykernel_launcher.py:14: UserWarning: D:/Kaggle datasets/Thesis_Diabetic/Diabetic_Retinopathy/Test/Level_2/28544_left_Test_Level_2.png is a low contrast image\n",
      "  \n",
      "C:\\Users\\asarkar.NATICK-NT\\.conda\\envs\\tf-gpu\\lib\\site-packages\\ipykernel_launcher.py:10: UserWarning: D:/Kaggle datasets/Thesis_Diabetic/Diabetic_Retinopathy/Test/Level_0/30412_left_Test_Level_0.png is a low contrast image\n",
      "  # Remove the CWD from sys.path while we load stuff.\n",
      "C:\\Users\\asarkar.NATICK-NT\\.conda\\envs\\tf-gpu\\lib\\site-packages\\ipykernel_launcher.py:10: UserWarning: D:/Kaggle datasets/Thesis_Diabetic/Diabetic_Retinopathy/Test/Level_0/31318_left_Test_Level_0.png is a low contrast image\n",
      "  # Remove the CWD from sys.path while we load stuff.\n",
      "C:\\Users\\asarkar.NATICK-NT\\.conda\\envs\\tf-gpu\\lib\\site-packages\\ipykernel_launcher.py:10: UserWarning: D:/Kaggle datasets/Thesis_Diabetic/Diabetic_Retinopathy/Test/Level_0/31686_left_Test_Level_0.png is a low contrast image\n",
      "  # Remove the CWD from sys.path while we load stuff.\n",
      "C:\\Users\\asarkar.NATICK-NT\\.conda\\envs\\tf-gpu\\lib\\site-packages\\ipykernel_launcher.py:14: UserWarning: D:/Kaggle datasets/Thesis_Diabetic/Diabetic_Retinopathy/Test/Level_2/33134_left_Test_Level_2.png is a low contrast image\n",
      "  \n",
      "C:\\Users\\asarkar.NATICK-NT\\.conda\\envs\\tf-gpu\\lib\\site-packages\\ipykernel_launcher.py:10: UserWarning: D:/Kaggle datasets/Thesis_Diabetic/Diabetic_Retinopathy/Test/Level_0/33965_right_Test_Level_0.png is a low contrast image\n",
      "  # Remove the CWD from sys.path while we load stuff.\n",
      "C:\\Users\\asarkar.NATICK-NT\\.conda\\envs\\tf-gpu\\lib\\site-packages\\ipykernel_launcher.py:18: UserWarning: D:/Kaggle datasets/Thesis_Diabetic/Diabetic_Retinopathy/Test/Level_4/35433_left_Test_Level_4.png is a low contrast image\n",
      "C:\\Users\\asarkar.NATICK-NT\\.conda\\envs\\tf-gpu\\lib\\site-packages\\ipykernel_launcher.py:10: UserWarning: D:/Kaggle datasets/Thesis_Diabetic/Diabetic_Retinopathy/Test/Level_0/35762_left_Test_Level_0.png is a low contrast image\n",
      "  # Remove the CWD from sys.path while we load stuff.\n",
      "C:\\Users\\asarkar.NATICK-NT\\.conda\\envs\\tf-gpu\\lib\\site-packages\\ipykernel_launcher.py:10: UserWarning: D:/Kaggle datasets/Thesis_Diabetic/Diabetic_Retinopathy/Test/Level_0/37136_left_Test_Level_0.png is a low contrast image\n",
      "  # Remove the CWD from sys.path while we load stuff.\n",
      "C:\\Users\\asarkar.NATICK-NT\\.conda\\envs\\tf-gpu\\lib\\site-packages\\ipykernel_launcher.py:10: UserWarning: D:/Kaggle datasets/Thesis_Diabetic/Diabetic_Retinopathy/Test/Level_0/38271_left_Test_Level_0.png is a low contrast image\n",
      "  # Remove the CWD from sys.path while we load stuff.\n",
      "C:\\Users\\asarkar.NATICK-NT\\.conda\\envs\\tf-gpu\\lib\\site-packages\\ipykernel_launcher.py:10: UserWarning: D:/Kaggle datasets/Thesis_Diabetic/Diabetic_Retinopathy/Test/Level_0/38294_left_Test_Level_0.png is a low contrast image\n",
      "  # Remove the CWD from sys.path while we load stuff.\n",
      "C:\\Users\\asarkar.NATICK-NT\\.conda\\envs\\tf-gpu\\lib\\site-packages\\ipykernel_launcher.py:10: UserWarning: D:/Kaggle datasets/Thesis_Diabetic/Diabetic_Retinopathy/Test/Level_0/38549_left_Test_Level_0.png is a low contrast image\n",
      "  # Remove the CWD from sys.path while we load stuff.\n",
      "C:\\Users\\asarkar.NATICK-NT\\.conda\\envs\\tf-gpu\\lib\\site-packages\\ipykernel_launcher.py:12: UserWarning: D:/Kaggle datasets/Thesis_Diabetic/Diabetic_Retinopathy/Test/Level_1/40268_left_Test_Level_1.png is a low contrast image\n",
      "  if sys.path[0] == '':\n",
      "C:\\Users\\asarkar.NATICK-NT\\.conda\\envs\\tf-gpu\\lib\\site-packages\\ipykernel_launcher.py:10: UserWarning: D:/Kaggle datasets/Thesis_Diabetic/Diabetic_Retinopathy/Test/Level_0/40544_right_Test_Level_0.png is a low contrast image\n",
      "  # Remove the CWD from sys.path while we load stuff.\n"
     ]
    },
    {
     "name": "stdout",
     "output_type": "stream",
     "text": [
      "Test set created\n"
     ]
    }
   ],
   "source": [
    "path_test = 'D:/Kaggle datasets/Thesis/archive/resized test 15/'\n",
    "\n",
    "create_dataset(df_test,path_test,image_size=1024,dataset='Test')\n",
    "\n",
    "print('Test set created')"
   ]
  },
  {
   "cell_type": "code",
   "execution_count": null,
   "metadata": {},
   "outputs": [],
   "source": []
  }
 ],
 "metadata": {
  "kernelspec": {
   "display_name": "Python 3",
   "language": "python",
   "name": "python3"
  },
  "language_info": {
   "codemirror_mode": {
    "name": "ipython",
    "version": 3
   },
   "file_extension": ".py",
   "mimetype": "text/x-python",
   "name": "python",
   "nbconvert_exporter": "python",
   "pygments_lexer": "ipython3",
   "version": "3.7.9"
  }
 },
 "nbformat": 4,
 "nbformat_minor": 4
}
