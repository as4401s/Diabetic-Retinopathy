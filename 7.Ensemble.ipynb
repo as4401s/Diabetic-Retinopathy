{
 "cells": [
  {
   "cell_type": "code",
   "execution_count": 4,
   "metadata": {},
   "outputs": [],
   "source": [
    "import tensorflow as tf\n",
    "import numpy as np\n",
    "import cv2 as cv\n",
    "import matplotlib.pyplot as plt\n",
    "import os\n",
    "import seaborn as sns\n",
    "from sklearn.model_selection import train_test_split\n",
    "from sklearn.metrics import confusion_matrix\n",
    "from mlxtend.plotting import plot_confusion_matrix\n",
    "\n",
    "from preprocess_blur import preprocess\n",
    "from display_bar_chart import display_bar_chart\n",
    "\n",
    "from tensorflow.keras.applications.efficientnet import preprocess_input"
   ]
  },
  {
   "cell_type": "code",
   "execution_count": 5,
   "metadata": {},
   "outputs": [],
   "source": [
    "image_size = 380\n",
    "\n",
    "labels = ['Level_0','Level_1','Level_2','level_3','Level_4']\n",
    "\n",
    "def create_data(paths):\n",
    "    \n",
    "    images = []\n",
    "    \n",
    "    for label in labels:\n",
    "        dir = os.path.join(paths,label)\n",
    "        class_num = labels.index(label)\n",
    "        \n",
    "        for image in os.listdir(dir):\n",
    "            image_read = cv.imread(os.path.join(dir,image))\n",
    "            image_read = cv.cvtColor(image_read,cv.COLOR_BGR2RGB)\n",
    "            image_resized = preprocess(image_read,sigmaX=10,IMG_SIZE=380)\n",
    "            image_resized = cv.resize(image_resized,(image_size,image_size))\n",
    "            image_resized= preprocess_input(image_resized)\n",
    "            images.append([image_resized,class_num])\n",
    "            \n",
    "    return np.array(images)"
   ]
  },
  {
   "cell_type": "code",
   "execution_count": 6,
   "metadata": {},
   "outputs": [],
   "source": [
    "val = create_data('D:/Kaggle datasets/Thesis_Diabetic/Diabetic_Retinopathy/Val/')"
   ]
  },
  {
   "cell_type": "code",
   "execution_count": 7,
   "metadata": {},
   "outputs": [
    {
     "name": "stdout",
     "output_type": "stream",
     "text": [
      "(5125, 380, 380, 3)\n",
      "(5125, 1)\n"
     ]
    }
   ],
   "source": [
    "X_val = []\n",
    "y_val = []\n",
    "\n",
    "for feature, label in val:\n",
    "    X_val.append(feature)\n",
    "    y_val.append(label)\n",
    "    \n",
    "X_val = np.array(X_val)\n",
    "y_val = np.array(y_val)\n",
    "y_val = np.expand_dims(y_val, axis=1)\n",
    "\n",
    "print(X_val.shape)\n",
    "print(y_val.shape)"
   ]
  },
  {
   "cell_type": "code",
   "execution_count": 8,
   "metadata": {},
   "outputs": [],
   "source": [
    "model_1 = tf.keras.models.load_model('EfficientNetb4_blur_1.h5')\n",
    "model_2 = tf.keras.models.load_model('EfficientNetb4_blur_2.h5')\n",
    "model_3 = tf.keras.models.load_model('EfficientNetb4_blur_noisystudent_1.h5')\n",
    "model_4 = tf.keras.models.load_model('EfficientNetb4_blur_noisystudent_2.h5')\n",
    "model_5 = tf.keras.models.load_model('EfficientNetb3_blur_1.h5')"
   ]
  },
  {
   "cell_type": "code",
   "execution_count": 9,
   "metadata": {},
   "outputs": [
    {
     "name": "stdout",
     "output_type": "stream",
     "text": [
      "WARNING:tensorflow:Model was constructed with shape (None, 300, 300, 3) for input Tensor(\"input_1_4:0\", shape=(None, 300, 300, 3), dtype=float32), but it was called on an input with incompatible shape (1, 380, 380, 3).\n"
     ]
    }
   ],
   "source": [
    "P1 = model_1.predict(X_val, steps=len(X_val)).argmax(axis=1)\n",
    "P2 = model_2.predict(X_val, steps=len(X_val)).argmax(axis=1)\n",
    "P3 = model_3.predict(X_val, steps=len(X_val)).argmax(axis=1)\n",
    "P4 = model_4.predict(X_val, steps=len(X_val)).argmax(axis=1)"
   ]
  },
  {
   "cell_type": "code",
   "execution_count": 30,
   "metadata": {},
   "outputs": [],
   "source": [
    "weighted_pred = (0.40*P1+0.20*P2+0.20*P3+0.20*P4)"
   ]
  },
  {
   "cell_type": "code",
   "execution_count": 31,
   "metadata": {},
   "outputs": [],
   "source": [
    "final_pred = weighted_pred.astype(int)"
   ]
  },
  {
   "cell_type": "code",
   "execution_count": 32,
   "metadata": {},
   "outputs": [
    {
     "name": "stdout",
     "output_type": "stream",
     "text": [
      "[0 0 0 ... 2 4 4]\n"
     ]
    }
   ],
   "source": [
    "print(final_pred)"
   ]
  },
  {
   "cell_type": "code",
   "execution_count": 33,
   "metadata": {},
   "outputs": [
    {
     "data": {
      "text/plain": [
       "([<matplotlib.axis.YTick at 0x25dae47ba48>,\n",
       "  <matplotlib.axis.YTick at 0x25d3761c988>,\n",
       "  <matplotlib.axis.YTick at 0x25dae46a348>,\n",
       "  <matplotlib.axis.YTick at 0x25dae4dd408>,\n",
       "  <matplotlib.axis.YTick at 0x25dae4e1048>],\n",
       " [Text(0, 0, 'Level_0'),\n",
       "  Text(0, 1, 'Level_1'),\n",
       "  Text(0, 2, 'Level_2'),\n",
       "  Text(0, 3, 'level_3'),\n",
       "  Text(0, 4, 'Level_4')])"
      ]
     },
     "execution_count": 33,
     "metadata": {},
     "output_type": "execute_result"
    },
    {
     "data": {
      "image/png": "[encoded data removed]",
      "text/plain": [
       "<Figure size 360x360 with 1 Axes>"
      ]
     },
     "metadata": {
      "needs_background": "light"
     },
     "output_type": "display_data"
    }
   ],
   "source": [
    "matrix = confusion_matrix (y_val, final_pred)\n",
    "plot_confusion_matrix(matrix, figsize=(5,5))\n",
    "plt.xticks(range(5), ['Level_0','Level_1','Level_2','level_3','Level_4'], fontsize=10)\n",
    "plt.yticks(range(5), ['Level_0','Level_1','Level_2','level_3','Level_4'], fontsize=10)"
   ]
  },
  {
   "cell_type": "code",
   "execution_count": 34,
   "metadata": {},
   "outputs": [],
   "source": [
    "from sklearn.metrics import accuracy_score, precision_score, recall_score, f1_score\n",
    "\n",
    "def f_score(y,P,level):\n",
    "    \n",
    "    print(f'Level_{level}')\n",
    "    print('Weighted Precision: {:.2f}'.format(precision_score(y, P, average='weighted')))\n",
    "    print('Weighted Recall: {:.2f}'.format(recall_score(y, P, average='weighted')))\n",
    "    print('Weighted F1-score: {:.2f}'.format(f1_score(y, P, average='weighted')))\n",
    "    \n",
    "def accuracy (y,P,level):\n",
    "    \n",
    "    print(f'Level_{level}')\n",
    "    print('\\nAccuracy: {:.2f}\\n'.format(accuracy_score(y, P)))"
   ]
  },
  {
   "cell_type": "code",
   "execution_count": 35,
   "metadata": {},
   "outputs": [
    {
     "name": "stdout",
     "output_type": "stream",
     "text": [
      "Level_1234\n",
      "Weighted Precision: 0.81\n",
      "Weighted Recall: 0.81\n",
      "Weighted F1-score: 0.80\n"
     ]
    }
   ],
   "source": [
    "f_score(y_val,final_pred, 1234)"
   ]
  },
  {
   "cell_type": "code",
   "execution_count": 36,
   "metadata": {},
   "outputs": [
    {
     "name": "stdout",
     "output_type": "stream",
     "text": [
      "Dataset created\n"
     ]
    }
   ],
   "source": [
    "test = create_data('D:/Kaggle datasets/Thesis_Diabetic/Diabetic_Retinopathy/Test/')\n",
    "print('Dataset created')"
   ]
  },
  {
   "cell_type": "code",
   "execution_count": 37,
   "metadata": {},
   "outputs": [
    {
     "name": "stdout",
     "output_type": "stream",
     "text": [
      "(53576, 380, 380, 3)\n",
      "(53576, 1)\n"
     ]
    }
   ],
   "source": [
    "#load test images and labels in X_test and y_test\n",
    "\n",
    "X_test = []\n",
    "y_test = []\n",
    "\n",
    "for feature, label in test:\n",
    "    X_test.append(feature)\n",
    "    y_test.append(label)\n",
    "    \n",
    "X_test = np.array(X_test)\n",
    "y_test = np.array(y_test)\n",
    "y_test = np.expand_dims(y_test, axis=1)\n",
    "\n",
    "print(X_test.shape)\n",
    "print(y_test.shape)"
   ]
  },
  {
   "cell_type": "code",
   "execution_count": 38,
   "metadata": {},
   "outputs": [
    {
     "name": "stdout",
     "output_type": "stream",
     "text": [
      "Number of Level_0 images =  39533\n",
      "Number of Level_1 images =  3762\n",
      "Number of Level_2 images =  7861\n",
      "Number of Level_3 images =  1214\n",
      "Number of Level_4 images =  1206\n"
     ]
    },
    {
     "data": {
      "image/png": "[encoded data removed]",
      "text/plain": [
       "<Figure size 432x288 with 1 Axes>"
      ]
     },
     "metadata": {
      "needs_background": "light"
     },
     "output_type": "display_data"
    }
   ],
   "source": [
    "display_bar_chart(y_test)"
   ]
  },
  {
   "cell_type": "code",
   "execution_count": 40,
   "metadata": {},
   "outputs": [],
   "source": [
    "P1_test = model_1.predict(X_test, batch_size=4).argmax(axis=1)\n",
    "P2_test = model_2.predict(X_test, batch_size=4).argmax(axis=1)\n",
    "P3_test = model_3.predict(X_test, batch_size=4).argmax(axis=1)\n",
    "P4_test = model_4.predict(X_test, batch_size=4).argmax(axis=1)"
   ]
  },
  {
   "cell_type": "code",
   "execution_count": 41,
   "metadata": {},
   "outputs": [
    {
     "name": "stdout",
     "output_type": "stream",
     "text": [
      "[2 0 1 ... 3 3 3]\n"
     ]
    }
   ],
   "source": [
    "weighted_pred_test = (0.35*P1_test+0.25*P2_test+0.20*P3_test+0.20*P3_test)\n",
    "final_pred_test = weighted_pred_test.astype(int)\n",
    "print(final_pred_test)"
   ]
  },
  {
   "cell_type": "code",
   "execution_count": 62,
   "metadata": {},
   "outputs": [
    {
     "name": "stdout",
     "output_type": "stream",
     "text": [
      "Number of Level_0 images =  40910\n",
      "Number of Level_1 images =  3603\n",
      "Number of Level_2 images =  6595\n",
      "Number of Level_3 images =  1666\n",
      "Number of Level_4 images =  802\n"
     ]
    },
    {
     "data": {
      "image/png": "[encoded data removed]",
      "text/plain": [
       "<Figure size 432x288 with 1 Axes>"
      ]
     },
     "metadata": {
      "needs_background": "light"
     },
     "output_type": "display_data"
    }
   ],
   "source": [
    "display_bar_chart(final_pred_test)"
   ]
  },
  {
   "cell_type": "code",
   "execution_count": 43,
   "metadata": {},
   "outputs": [
    {
     "data": {
      "text/plain": [
       "([<matplotlib.axis.YTick at 0x268959bedc8>,\n",
       "  <matplotlib.axis.YTick at 0x268959bee08>,\n",
       "  <matplotlib.axis.YTick at 0x268959ba9c8>,\n",
       "  <matplotlib.axis.YTick at 0x26895a1b7c8>,\n",
       "  <matplotlib.axis.YTick at 0x26895a1f2c8>],\n",
       " [Text(0, 0, 'Level_0'),\n",
       "  Text(0, 1, 'Level_1'),\n",
       "  Text(0, 2, 'Level_2'),\n",
       "  Text(0, 3, 'level_3'),\n",
       "  Text(0, 4, 'Level_4')])"
      ]
     },
     "execution_count": 43,
     "metadata": {},
     "output_type": "execute_result"
    },
    {
     "data": {
      "image/png": "[encoded data removed]",
      "text/plain": [
       "<Figure size 360x360 with 1 Axes>"
      ]
     },
     "metadata": {
      "needs_background": "light"
     },
     "output_type": "display_data"
    }
   ],
   "source": [
    "cnf_matrix = confusion_matrix (y_test, final_pred_test)\n",
    "plot_confusion_matrix(cnf_matrix, figsize=(5,5))\n",
    "plt.xticks(range(5), ['Level_0','Level_1','Level_2','level_3','Level_4'], fontsize=10)\n",
    "plt.yticks(range(5), ['Level_0','Level_1','Level_2','level_3','Level_4'], fontsize=10)"
   ]
  },
  {
   "cell_type": "code",
   "execution_count": 44,
   "metadata": {},
   "outputs": [],
   "source": [
    "FP = cnf_matrix.sum(axis=0) - np.diag(cnf_matrix) \n",
    "FN = cnf_matrix.sum(axis=1) - np.diag(cnf_matrix)\n",
    "TP = np.diag(cnf_matrix)\n",
    "TN = cnf_matrix.sum() - (FP + FN + TP)\n",
    "\n",
    "FP = FP.astype(float)\n",
    "FN = FN.astype(float)\n",
    "TP = TP.astype(float)\n",
    "TN = TN.astype(float)"
   ]
  },
  {
   "cell_type": "code",
   "execution_count": 45,
   "metadata": {},
   "outputs": [
    {
     "name": "stdout",
     "output_type": "stream",
     "text": [
      "Level_1234\n",
      "Weighted Precision: 0.80\n",
      "Weighted Recall: 0.80\n",
      "Weighted F1-score: 0.80\n"
     ]
    }
   ],
   "source": [
    "f_score(y_test,final_pred_test, 1234)"
   ]
  },
  {
   "cell_type": "code",
   "execution_count": 47,
   "metadata": {},
   "outputs": [
    {
     "data": {
      "text/plain": [
       "array([36570.,   728.,  4440.,   652.,   608.])"
      ]
     },
     "execution_count": 47,
     "metadata": {},
     "output_type": "execute_result"
    }
   ],
   "source": [
    "TP"
   ]
  },
  {
   "cell_type": "code",
   "execution_count": 48,
   "metadata": {},
   "outputs": [
    {
     "name": "stdout",
     "output_type": "stream",
     "text": [
      "0.8939134685895869\n"
     ]
    }
   ],
   "source": [
    "# Precision or positive predictive value\n",
    "PPV = TP[0]/(TP[0]+FP[0])\n",
    "print(PPV)"
   ]
  },
  {
   "cell_type": "code",
   "execution_count": 49,
   "metadata": {},
   "outputs": [],
   "source": [
    "def metrics(level):\n",
    "    \n",
    "    PPV = TP[level]/(TP[level]+FP[level])\n",
    "    print(f'PPV- Precision of Level_{level} = ',PPV)\n",
    "    \n",
    "    # Sensitivity, hit rate, recall, or true positive rate\n",
    "    TPR = TP[level]/(TP[level]+FN[level])\n",
    "    \n",
    "    print(f'Recall - Sensitivity of Level_{level} = ',TPR)\n",
    "    \n",
    "    # F-score\n",
    "    F_score = (2*PPV*TPR)/(PPV+TPR)\n",
    "    print(f'F-score of Level_{level} = ',F_score)"
   ]
  },
  {
   "cell_type": "code",
   "execution_count": 50,
   "metadata": {},
   "outputs": [
    {
     "name": "stdout",
     "output_type": "stream",
     "text": [
      "PPV- Precision of Level_0 =  0.8939134685895869\n",
      "Recall - Sensitivity of Level_0 =  0.9250499582627172\n",
      "F-score of Level_0 =  0.9092152207152892\n"
     ]
    }
   ],
   "source": [
    "metrics(level=0)"
   ]
  },
  {
   "cell_type": "code",
   "execution_count": 51,
   "metadata": {},
   "outputs": [
    {
     "name": "stdout",
     "output_type": "stream",
     "text": [
      "PPV- Precision of Level_1 =  0.20205384401887316\n",
      "Recall - Sensitivity of Level_1 =  0.19351408825093036\n",
      "F-score of Level_1 =  0.1976917854718262\n"
     ]
    }
   ],
   "source": [
    "metrics(level=1)"
   ]
  },
  {
   "cell_type": "code",
   "execution_count": 52,
   "metadata": {},
   "outputs": [
    {
     "name": "stdout",
     "output_type": "stream",
     "text": [
      "PPV- Precision of Level_2 =  0.6732373009855952\n",
      "Recall - Sensitivity of Level_2 =  0.5648136369418649\n",
      "F-score of Level_2 =  0.6142778085224129\n"
     ]
    }
   ],
   "source": [
    "metrics(level=2)"
   ]
  },
  {
   "cell_type": "code",
   "execution_count": 53,
   "metadata": {},
   "outputs": [
    {
     "name": "stdout",
     "output_type": "stream",
     "text": [
      "PPV- Precision of Level_3 =  0.39135654261704683\n",
      "Recall - Sensitivity of Level_3 =  0.5370675453047776\n",
      "F-score of Level_3 =  0.45277777777777783\n"
     ]
    }
   ],
   "source": [
    "metrics(level=3)"
   ]
  },
  {
   "cell_type": "code",
   "execution_count": 54,
   "metadata": {},
   "outputs": [
    {
     "name": "stdout",
     "output_type": "stream",
     "text": [
      "PPV- Precision of Level_4 =  0.7581047381546134\n",
      "Recall - Sensitivity of Level_4 =  0.5041459369817579\n",
      "F-score of Level_4 =  0.6055776892430279\n"
     ]
    }
   ],
   "source": [
    "metrics(level=4)"
   ]
  },
  {
   "cell_type": "code",
   "execution_count": 56,
   "metadata": {},
   "outputs": [
    {
     "name": "stdout",
     "output_type": "stream",
     "text": [
      "0.8025608481409586\n"
     ]
    }
   ],
   "source": [
    "PPV = np.sum(TP)/np.sum(TP+FP)\n",
    "print(PPV)"
   ]
  },
  {
   "cell_type": "code",
   "execution_count": 57,
   "metadata": {},
   "outputs": [
    {
     "name": "stdout",
     "output_type": "stream",
     "text": [
      "0.8025608481409586\n"
     ]
    }
   ],
   "source": [
    "Recall = np.sum(TP)/np.sum(TP+FN)\n",
    "print(Recall)"
   ]
  },
  {
   "cell_type": "code",
   "execution_count": 58,
   "metadata": {},
   "outputs": [
    {
     "name": "stdout",
     "output_type": "stream",
     "text": [
      "0.8025608481409586\n"
     ]
    }
   ],
   "source": [
    "F_score = 2*PPV*Recall/(PPV+Recall)\n",
    "print(F_score)"
   ]
  },
  {
   "cell_type": "code",
   "execution_count": 59,
   "metadata": {},
   "outputs": [
    {
     "name": "stdout",
     "output_type": "stream",
     "text": [
      "[0.86368897 0.88970808 0.89592355 0.97058384 0.98521726]\n"
     ]
    }
   ],
   "source": [
    "ACC = (TP+TN)/(TP+FP+FN+TN)\n",
    "print(ACC)"
   ]
  },
  {
   "cell_type": "code",
   "execution_count": 60,
   "metadata": {},
   "outputs": [],
   "source": [
    "def f_score_macro(y,P,level):\n",
    "    \n",
    "    print(f'Level_{level}')\n",
    "    print('Macro Precision: {:.2f}'.format(precision_score(y, P, average='macro')))\n",
    "    print('Macro Recall: {:.2f}'.format(recall_score(y, P, average='macro')))\n",
    "    print('Macro F1-score: {:.2f}\\n'.format(f1_score(y, P, average='macro')))"
   ]
  },
  {
   "cell_type": "code",
   "execution_count": 61,
   "metadata": {},
   "outputs": [
    {
     "name": "stdout",
     "output_type": "stream",
     "text": [
      "Level_1234\n",
      "Macro Precision: 0.58\n",
      "Macro Recall: 0.54\n",
      "Macro F1-score: 0.56\n",
      "\n"
     ]
    }
   ],
   "source": [
    "f_score_macro(y_test,final_pred_test,1234)"
   ]
  },
  {
   "cell_type": "code",
   "execution_count": 64,
   "metadata": {},
   "outputs": [
    {
     "data": {
      "image/png": "[encoded data removed]",
      "text/plain": [
       "<Figure size 720x720 with 2 Axes>"
      ]
     },
     "metadata": {
      "needs_background": "light"
     },
     "output_type": "display_data"
    }
   ],
   "source": [
    "target_names = ['Level_0','Level_1','Level_2','level_3','Level_4']\n",
    "cm = confusion_matrix(y_test, final_pred_test)\n",
    "# Normalise\n",
    "cmn = cm.astype('float')/cm.sum(axis=1)[:, np.newaxis]\n",
    "fig, ax = plt.subplots(figsize=(10,10))\n",
    "sns.heatmap(cmn, annot=True, fmt='.2f', xticklabels=target_names, yticklabels=target_names)\n",
    "plt.ylabel('Actual')\n",
    "plt.xlabel('Predicted')\n",
    "plt.show(block=False)"
   ]
  }
 ],
 "metadata": {
  "kernelspec": {
   "display_name": "Python 3",
   "language": "python",
   "name": "python3"
  },
  "language_info": {
   "codemirror_mode": {
    "name": "ipython",
    "version": 3
   },
   "file_extension": ".py",
   "mimetype": "text/x-python",
   "name": "python",
   "nbconvert_exporter": "python",
   "pygments_lexer": "ipython3",
   "version": "3.7.9"
  }
 },
 "nbformat": 4,
 "nbformat_minor": 4
}
